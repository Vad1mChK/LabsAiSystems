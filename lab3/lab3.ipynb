{
 "cells": [
  {
   "metadata": {},
   "cell_type": "markdown",
   "source": "# Лабораторная работа № 3 по дисциплине \"Системы искусственного интеллекта\"",
   "id": "6a15e0f206259d0c"
  },
  {
   "metadata": {},
   "cell_type": "markdown",
   "source": [
    "## Задание лабораторной работы\n",
    "0. Датасет:\n",
    "    - Датасет [про обучение студентов](https://www.kaggle.com/datasets/nikhil7280/student-performance-multiple-linear-regression)\n",
    "1. Получите и визуализируйте (графически) статистику по датасету (включая количество, среднее значение, стандартное отклонение, минимум, максимум и различные квантили).\n",
    "2. Проведите предварительную обработку данных, включая обработку отсутствующих значений, кодирование категориальных признаков и нормировка.\n",
    "3. Разделите данные на обучающий и тестовый наборы данных.\n",
    "4. Реализуйте линейную регрессию с использованием метода наименьших квадратов без использования сторонних библиотек, кроме NumPy и Pandas (для использования коэффициентов использовать библиотеки тоже нельзя). Использовать минимизацию суммы квадратов разностей между фактическими и предсказанными значениями для нахождения оптимальных коэффициентов.\n",
    "5. Постройте **три модели** с различными наборами признаков. Для каждой модели проведите оценку производительности, используя метрику коэффициент детерминации, чтобы измерить, насколько хорошо модель соответствует данным.\n",
    "6. Сравните результаты трех моделей и сделайте выводы о том, какие признаки работают лучше всего для каждой модели.\n",
    "7. Бонусное задание\n",
    "    - Ввести синтетический признак при построении модели"
   ],
   "id": "7db7d5d05cbd88a1"
  },
  {
   "metadata": {},
   "cell_type": "markdown",
   "source": [
    "## Выполнение лабораторной работы\n",
    "### 0. Установка и импорт библиотек, загрузка датасета\n",
    "\n",
    "Сначала установим библиотеки, если они уже не установлены."
   ],
   "id": "2a52c7384b31da1b"
  },
  {
   "metadata": {
    "ExecuteTime": {
     "end_time": "2024-09-30T00:19:42.378744Z",
     "start_time": "2024-09-30T00:19:40.455988Z"
    }
   },
   "cell_type": "code",
   "source": [
    "import math\n",
    "!pip install numpy pandas matplotlib seaborn"
   ],
   "id": "7d5c056d7aef98db",
   "outputs": [
    {
     "name": "stdout",
     "output_type": "stream",
     "text": [
      "Requirement already satisfied: numpy in c:\\users\\vadim\\pycharmprojects\\labsaisystems\\.venv\\lib\\site-packages (2.1.1)\n",
      "Requirement already satisfied: pandas in c:\\users\\vadim\\pycharmprojects\\labsaisystems\\.venv\\lib\\site-packages (2.2.3)\n",
      "Requirement already satisfied: matplotlib in c:\\users\\vadim\\pycharmprojects\\labsaisystems\\.venv\\lib\\site-packages (3.9.2)\n",
      "Requirement already satisfied: seaborn in c:\\users\\vadim\\pycharmprojects\\labsaisystems\\.venv\\lib\\site-packages (0.13.2)\n",
      "Requirement already satisfied: python-dateutil>=2.8.2 in c:\\users\\vadim\\pycharmprojects\\labsaisystems\\.venv\\lib\\site-packages (from pandas) (2.9.0.post0)\n",
      "Requirement already satisfied: pytz>=2020.1 in c:\\users\\vadim\\pycharmprojects\\labsaisystems\\.venv\\lib\\site-packages (from pandas) (2024.2)\n",
      "Requirement already satisfied: tzdata>=2022.7 in c:\\users\\vadim\\pycharmprojects\\labsaisystems\\.venv\\lib\\site-packages (from pandas) (2024.2)\n",
      "Requirement already satisfied: contourpy>=1.0.1 in c:\\users\\vadim\\pycharmprojects\\labsaisystems\\.venv\\lib\\site-packages (from matplotlib) (1.3.0)\n",
      "Requirement already satisfied: cycler>=0.10 in c:\\users\\vadim\\pycharmprojects\\labsaisystems\\.venv\\lib\\site-packages (from matplotlib) (0.12.1)\n",
      "Requirement already satisfied: fonttools>=4.22.0 in c:\\users\\vadim\\pycharmprojects\\labsaisystems\\.venv\\lib\\site-packages (from matplotlib) (4.54.1)\n",
      "Requirement already satisfied: kiwisolver>=1.3.1 in c:\\users\\vadim\\pycharmprojects\\labsaisystems\\.venv\\lib\\site-packages (from matplotlib) (1.4.7)\n",
      "Requirement already satisfied: packaging>=20.0 in c:\\users\\vadim\\pycharmprojects\\labsaisystems\\.venv\\lib\\site-packages (from matplotlib) (24.1)\n",
      "Requirement already satisfied: pillow>=8 in c:\\users\\vadim\\pycharmprojects\\labsaisystems\\.venv\\lib\\site-packages (from matplotlib) (10.4.0)\n",
      "Requirement already satisfied: pyparsing>=2.3.1 in c:\\users\\vadim\\pycharmprojects\\labsaisystems\\.venv\\lib\\site-packages (from matplotlib) (3.1.4)\n",
      "Requirement already satisfied: six>=1.5 in c:\\users\\vadim\\pycharmprojects\\labsaisystems\\.venv\\lib\\site-packages (from python-dateutil>=2.8.2->pandas) (1.16.0)\n"
     ]
    },
    {
     "name": "stderr",
     "output_type": "stream",
     "text": [
      "\n",
      "[notice] A new release of pip is available: 23.2.1 -> 24.2\n",
      "[notice] To update, run: python.exe -m pip install --upgrade pip\n"
     ]
    }
   ],
   "execution_count": 1
  },
  {
   "metadata": {},
   "cell_type": "markdown",
   "source": "Импортируем необходимые библиотеки.",
   "id": "e7db56a2437c5b7a"
  },
  {
   "metadata": {
    "ExecuteTime": {
     "end_time": "2024-09-30T00:19:43.229667Z",
     "start_time": "2024-09-30T00:19:42.380646Z"
    }
   },
   "cell_type": "code",
   "source": [
    "import numpy as np\n",
    "import pandas as pd\n",
    "import matplotlib.pyplot as plt"
   ],
   "id": "4b578944756358e",
   "outputs": [],
   "execution_count": 2
  },
  {
   "metadata": {},
   "cell_type": "markdown",
   "source": "Загрузим датасет и выведем основную статистику по нему и 5 первых строк:",
   "id": "31ac93d92c87983e"
  },
  {
   "metadata": {
    "ExecuteTime": {
     "end_time": "2024-09-30T00:19:43.260595Z",
     "start_time": "2024-09-30T00:19:43.231569Z"
    }
   },
   "cell_type": "code",
   "source": [
    "data = pd.read_csv('Student_Performance.csv')\n",
    "print(data.describe())\n",
    "data.head()"
   ],
   "id": "c3f06f76e4e99e00",
   "outputs": [
    {
     "name": "stdout",
     "output_type": "stream",
     "text": [
      "       Hours Studied  Previous Scores   Sleep Hours  \\\n",
      "count   10000.000000     10000.000000  10000.000000   \n",
      "mean        4.992900        69.445700      6.530600   \n",
      "std         2.589309        17.343152      1.695863   \n",
      "min         1.000000        40.000000      4.000000   \n",
      "25%         3.000000        54.000000      5.000000   \n",
      "50%         5.000000        69.000000      7.000000   \n",
      "75%         7.000000        85.000000      8.000000   \n",
      "max         9.000000        99.000000      9.000000   \n",
      "\n",
      "       Sample Question Papers Practiced  Performance Index  \n",
      "count                      10000.000000       10000.000000  \n",
      "mean                           4.583300          55.224800  \n",
      "std                            2.867348          19.212558  \n",
      "min                            0.000000          10.000000  \n",
      "25%                            2.000000          40.000000  \n",
      "50%                            5.000000          55.000000  \n",
      "75%                            7.000000          71.000000  \n",
      "max                            9.000000         100.000000  \n"
     ]
    },
    {
     "data": {
      "text/plain": [
       "   Hours Studied  Previous Scores Extracurricular Activities  Sleep Hours  \\\n",
       "0              7               99                        Yes            9   \n",
       "1              4               82                         No            4   \n",
       "2              8               51                        Yes            7   \n",
       "3              5               52                        Yes            5   \n",
       "4              7               75                         No            8   \n",
       "\n",
       "   Sample Question Papers Practiced  Performance Index  \n",
       "0                                 1               91.0  \n",
       "1                                 2               65.0  \n",
       "2                                 2               45.0  \n",
       "3                                 2               36.0  \n",
       "4                                 5               66.0  "
      ],
      "text/html": [
       "<div>\n",
       "<style scoped>\n",
       "    .dataframe tbody tr th:only-of-type {\n",
       "        vertical-align: middle;\n",
       "    }\n",
       "\n",
       "    .dataframe tbody tr th {\n",
       "        vertical-align: top;\n",
       "    }\n",
       "\n",
       "    .dataframe thead th {\n",
       "        text-align: right;\n",
       "    }\n",
       "</style>\n",
       "<table border=\"1\" class=\"dataframe\">\n",
       "  <thead>\n",
       "    <tr style=\"text-align: right;\">\n",
       "      <th></th>\n",
       "      <th>Hours Studied</th>\n",
       "      <th>Previous Scores</th>\n",
       "      <th>Extracurricular Activities</th>\n",
       "      <th>Sleep Hours</th>\n",
       "      <th>Sample Question Papers Practiced</th>\n",
       "      <th>Performance Index</th>\n",
       "    </tr>\n",
       "  </thead>\n",
       "  <tbody>\n",
       "    <tr>\n",
       "      <th>0</th>\n",
       "      <td>7</td>\n",
       "      <td>99</td>\n",
       "      <td>Yes</td>\n",
       "      <td>9</td>\n",
       "      <td>1</td>\n",
       "      <td>91.0</td>\n",
       "    </tr>\n",
       "    <tr>\n",
       "      <th>1</th>\n",
       "      <td>4</td>\n",
       "      <td>82</td>\n",
       "      <td>No</td>\n",
       "      <td>4</td>\n",
       "      <td>2</td>\n",
       "      <td>65.0</td>\n",
       "    </tr>\n",
       "    <tr>\n",
       "      <th>2</th>\n",
       "      <td>8</td>\n",
       "      <td>51</td>\n",
       "      <td>Yes</td>\n",
       "      <td>7</td>\n",
       "      <td>2</td>\n",
       "      <td>45.0</td>\n",
       "    </tr>\n",
       "    <tr>\n",
       "      <th>3</th>\n",
       "      <td>5</td>\n",
       "      <td>52</td>\n",
       "      <td>Yes</td>\n",
       "      <td>5</td>\n",
       "      <td>2</td>\n",
       "      <td>36.0</td>\n",
       "    </tr>\n",
       "    <tr>\n",
       "      <th>4</th>\n",
       "      <td>7</td>\n",
       "      <td>75</td>\n",
       "      <td>No</td>\n",
       "      <td>8</td>\n",
       "      <td>5</td>\n",
       "      <td>66.0</td>\n",
       "    </tr>\n",
       "  </tbody>\n",
       "</table>\n",
       "</div>"
      ]
     },
     "execution_count": 3,
     "metadata": {},
     "output_type": "execute_result"
    }
   ],
   "execution_count": 3
  },
  {
   "metadata": {},
   "cell_type": "markdown",
   "source": [
    "### 1. Визуализация статистики\n",
    "\n",
    "Визуализируем эту статистику:"
   ],
   "id": "8e3cd44e080ae41c"
  },
  {
   "metadata": {
    "ExecuteTime": {
     "end_time": "2024-09-30T00:19:44.375504Z",
     "start_time": "2024-09-30T00:19:43.261567Z"
    }
   },
   "cell_type": "code",
   "source": [
    "# Правило Стёрджиса для выбора оптимального количества интервалов в гистограмме \n",
    "def sturges(n):\n",
    "    return int(1 + np.floor(np.log2(n)))\n",
    "\n",
    "fig = plt.figure(figsize=(15, 10))\n",
    "\n",
    "desc = data.describe()\n",
    "\n",
    "non_numeric_column_count = 0\n",
    "\n",
    "for i, col in enumerate(desc.columns):\n",
    "    if data[col].dtype == 'object':\n",
    "        non_numeric_column_count += 1\n",
    "        continue\n",
    "    \n",
    "    ax = fig.add_subplot(2, 3, i + 1 - non_numeric_column_count)\n",
    "    \n",
    "    bin_count = min(sturges(len(data[col])), len(data[col].unique()))\n",
    "    \n",
    "    hist = ax.hist(data[col], bins=bin_count)\n",
    "    \n",
    "    count = int(desc[col]['count'])\n",
    "    mean = desc[col]['mean']\n",
    "    std = desc[col]['std']\n",
    "    min_val = desc[col]['min']\n",
    "    max_val = desc[col]['max']\n",
    "    q25 = desc[col]['25%']\n",
    "    median = desc[col]['50%']\n",
    "    q75 = desc[col]['75%']\n",
    "    \n",
    "    line_mean = ax.plot([mean, mean], [0, np.max(hist[0])], color='green', label='Mean')\n",
    "    line_mean_minus_std = ax.plot([mean - std, mean - std], [0, np.max(hist[0])],\n",
    "                                  color='green', linestyle='dashed', label='Mean -/+ StD ')\n",
    "    line_mean_plus_std = ax.plot([mean + std, mean + std], [0, np.max(hist[0])],\n",
    "                                 color='green', linestyle='dashed')\n",
    "    line_median = ax.plot([median, median], [0, np.max(hist[0])], \n",
    "                          color='yellow', label='50% Quantile')\n",
    "    line_q25 = ax.plot([q25, q25], [0, np.max(hist[0])],\n",
    "                       color='yellow', linestyle='dashed', label='25% / 75% Quantile')\n",
    "    line_q75 = ax.plot([q75, q75], [0, np.max(hist[0])],\n",
    "                       color='yellow', linestyle='dashed') \n",
    "    line_min = ax.plot([min_val, min_val], [0, np.max(hist[0])], color='red', label='Min / Max')\n",
    "    line_max = ax.plot([max_val, max_val], [0, np.max(hist[0])], color='red')\n",
    "    \n",
    "    ax.set_title(\n",
    "f\"\"\"\n",
    "{col}\n",
    "count = {count}; min = {min_val:.6}; max = {max_val:.6};\n",
    "mean = {mean:.6}; std = {std:.6};\n",
    "q25 = {q25:.6}; median = {median:.6}; q75 = {q75:.6};\n",
    "\"\"\"\n",
    "    )\n",
    "    ax.legend()\n",
    "    ax.plot()\n",
    "    \n",
    "    \n",
    "fig.tight_layout()\n",
    "plt.show()"
   ],
   "id": "aa36f76bc26e747d",
   "outputs": [
    {
     "data": {
      "text/plain": [
       "<Figure size 1500x1000 with 5 Axes>"
      ],
      "image/png": "[encoded data removed]"
     },
     "metadata": {},
     "output_type": "display_data"
    }
   ],
   "execution_count": 4
  },
  {
   "metadata": {},
   "cell_type": "markdown",
   "source": [
    "### 2. Предварительная обработка данных\n",
    "Обработка отсутствующих значений:"
   ],
   "id": "8c29fc1120091eaa"
  },
  {
   "metadata": {
    "ExecuteTime": {
     "end_time": "2024-09-30T00:19:44.391511Z",
     "start_time": "2024-09-30T00:19:44.377453Z"
    }
   },
   "cell_type": "code",
   "source": "data = data.dropna(axis='rows')  # Drop rows with missing values",
   "id": "a7e68276b74500fb",
   "outputs": [],
   "execution_count": 5
  },
  {
   "metadata": {},
   "cell_type": "markdown",
   "source": [
    "Кодирование категориальных признаков:\n",
    "- Категориальным является только признак `Extracurricular Activities` (принимает значения `Yes`, `No`). Все остальные -- числовые.\n",
    "\n",
    "Будем кодировать этот признак числом (`'No' : 0, 'Yes' : 1`)."
   ],
   "id": "b7e4e7c3d8cec556"
  },
  {
   "metadata": {
    "ExecuteTime": {
     "end_time": "2024-09-30T00:19:44.437452Z",
     "start_time": "2024-09-30T00:19:44.392453Z"
    }
   },
   "cell_type": "code",
   "source": [
    "data['Extracurricular Activities'] = data['Extracurricular Activities'].map({'No': 0, 'Yes': 1})\n",
    "data"
   ],
   "id": "bd463caaa1e5e035",
   "outputs": [
    {
     "data": {
      "text/plain": [
       "      Hours Studied  Previous Scores  Extracurricular Activities  Sleep Hours  \\\n",
       "0                 7               99                           1            9   \n",
       "1                 4               82                           0            4   \n",
       "2                 8               51                           1            7   \n",
       "3                 5               52                           1            5   \n",
       "4                 7               75                           0            8   \n",
       "...             ...              ...                         ...          ...   \n",
       "9995              1               49                           1            4   \n",
       "9996              7               64                           1            8   \n",
       "9997              6               83                           1            8   \n",
       "9998              9               97                           1            7   \n",
       "9999              7               74                           0            8   \n",
       "\n",
       "      Sample Question Papers Practiced  Performance Index  \n",
       "0                                    1               91.0  \n",
       "1                                    2               65.0  \n",
       "2                                    2               45.0  \n",
       "3                                    2               36.0  \n",
       "4                                    5               66.0  \n",
       "...                                ...                ...  \n",
       "9995                                 2               23.0  \n",
       "9996                                 5               58.0  \n",
       "9997                                 5               74.0  \n",
       "9998                                 0               95.0  \n",
       "9999                                 1               64.0  \n",
       "\n",
       "[10000 rows x 6 columns]"
      ],
      "text/html": [
       "<div>\n",
       "<style scoped>\n",
       "    .dataframe tbody tr th:only-of-type {\n",
       "        vertical-align: middle;\n",
       "    }\n",
       "\n",
       "    .dataframe tbody tr th {\n",
       "        vertical-align: top;\n",
       "    }\n",
       "\n",
       "    .dataframe thead th {\n",
       "        text-align: right;\n",
       "    }\n",
       "</style>\n",
       "<table border=\"1\" class=\"dataframe\">\n",
       "  <thead>\n",
       "    <tr style=\"text-align: right;\">\n",
       "      <th></th>\n",
       "      <th>Hours Studied</th>\n",
       "      <th>Previous Scores</th>\n",
       "      <th>Extracurricular Activities</th>\n",
       "      <th>Sleep Hours</th>\n",
       "      <th>Sample Question Papers Practiced</th>\n",
       "      <th>Performance Index</th>\n",
       "    </tr>\n",
       "  </thead>\n",
       "  <tbody>\n",
       "    <tr>\n",
       "      <th>0</th>\n",
       "      <td>7</td>\n",
       "      <td>99</td>\n",
       "      <td>1</td>\n",
       "      <td>9</td>\n",
       "      <td>1</td>\n",
       "      <td>91.0</td>\n",
       "    </tr>\n",
       "    <tr>\n",
       "      <th>1</th>\n",
       "      <td>4</td>\n",
       "      <td>82</td>\n",
       "      <td>0</td>\n",
       "      <td>4</td>\n",
       "      <td>2</td>\n",
       "      <td>65.0</td>\n",
       "    </tr>\n",
       "    <tr>\n",
       "      <th>2</th>\n",
       "      <td>8</td>\n",
       "      <td>51</td>\n",
       "      <td>1</td>\n",
       "      <td>7</td>\n",
       "      <td>2</td>\n",
       "      <td>45.0</td>\n",
       "    </tr>\n",
       "    <tr>\n",
       "      <th>3</th>\n",
       "      <td>5</td>\n",
       "      <td>52</td>\n",
       "      <td>1</td>\n",
       "      <td>5</td>\n",
       "      <td>2</td>\n",
       "      <td>36.0</td>\n",
       "    </tr>\n",
       "    <tr>\n",
       "      <th>4</th>\n",
       "      <td>7</td>\n",
       "      <td>75</td>\n",
       "      <td>0</td>\n",
       "      <td>8</td>\n",
       "      <td>5</td>\n",
       "      <td>66.0</td>\n",
       "    </tr>\n",
       "    <tr>\n",
       "      <th>...</th>\n",
       "      <td>...</td>\n",
       "      <td>...</td>\n",
       "      <td>...</td>\n",
       "      <td>...</td>\n",
       "      <td>...</td>\n",
       "      <td>...</td>\n",
       "    </tr>\n",
       "    <tr>\n",
       "      <th>9995</th>\n",
       "      <td>1</td>\n",
       "      <td>49</td>\n",
       "      <td>1</td>\n",
       "      <td>4</td>\n",
       "      <td>2</td>\n",
       "      <td>23.0</td>\n",
       "    </tr>\n",
       "    <tr>\n",
       "      <th>9996</th>\n",
       "      <td>7</td>\n",
       "      <td>64</td>\n",
       "      <td>1</td>\n",
       "      <td>8</td>\n",
       "      <td>5</td>\n",
       "      <td>58.0</td>\n",
       "    </tr>\n",
       "    <tr>\n",
       "      <th>9997</th>\n",
       "      <td>6</td>\n",
       "      <td>83</td>\n",
       "      <td>1</td>\n",
       "      <td>8</td>\n",
       "      <td>5</td>\n",
       "      <td>74.0</td>\n",
       "    </tr>\n",
       "    <tr>\n",
       "      <th>9998</th>\n",
       "      <td>9</td>\n",
       "      <td>97</td>\n",
       "      <td>1</td>\n",
       "      <td>7</td>\n",
       "      <td>0</td>\n",
       "      <td>95.0</td>\n",
       "    </tr>\n",
       "    <tr>\n",
       "      <th>9999</th>\n",
       "      <td>7</td>\n",
       "      <td>74</td>\n",
       "      <td>0</td>\n",
       "      <td>8</td>\n",
       "      <td>1</td>\n",
       "      <td>64.0</td>\n",
       "    </tr>\n",
       "  </tbody>\n",
       "</table>\n",
       "<p>10000 rows × 6 columns</p>\n",
       "</div>"
      ]
     },
     "execution_count": 6,
     "metadata": {},
     "output_type": "execute_result"
    }
   ],
   "execution_count": 6
  },
  {
   "metadata": {},
   "cell_type": "markdown",
   "source": "",
   "id": "44fd31b67077c784"
  },
  {
   "metadata": {},
   "cell_type": "markdown",
   "source": [
    "Нормализуем данные.\n",
    "Нормализацию осуществляем по принципу:\n",
    "$$\n",
    "x_i' = \\cfrac{x_i - \\bar{X}}{\\sigma},\n",
    "$$\n",
    "где $\\bar X$ -- выборочное среднее, $\\sigma$ -- стандартное отклонение."
   ],
   "id": "a52c5d01e49db6f8"
  },
  {
   "metadata": {
    "ExecuteTime": {
     "end_time": "2024-09-30T00:19:44.468452Z",
     "start_time": "2024-09-30T00:19:44.438457Z"
    }
   },
   "cell_type": "code",
   "source": [
    "norm_data = (data - data.mean()) / data.std()\n",
    "norm_data"
   ],
   "id": "9d09fd1de066d9d4",
   "outputs": [
    {
     "data": {
      "text/plain": [
       "      Hours Studied  Previous Scores  Extracurricular Activities  Sleep Hours  \\\n",
       "0          0.775149         1.704090                    1.010404     1.456132   \n",
       "1         -0.383461         0.723876                   -0.989604    -1.492220   \n",
       "2          1.161352        -1.063573                    1.010404     0.276791   \n",
       "3          0.002742        -1.005913                    1.010404    -0.902549   \n",
       "4          0.775149         0.320259                   -0.989604     0.866462   \n",
       "...             ...              ...                         ...          ...   \n",
       "9995      -1.542072        -1.178892                    1.010404    -1.492220   \n",
       "9996       0.775149        -0.313997                    1.010404     0.866462   \n",
       "9997       0.388945         0.781536                    1.010404     0.866462   \n",
       "9998       1.547556         1.588771                    1.010404     0.276791   \n",
       "9999       0.775149         0.262599                   -0.989604     0.866462   \n",
       "\n",
       "      Sample Question Papers Practiced  Performance Index  \n",
       "0                            -1.249691           1.862074  \n",
       "1                            -0.900937           0.508792  \n",
       "2                            -0.900937          -0.532194  \n",
       "3                            -0.900937          -1.000637  \n",
       "4                             0.145326           0.560842  \n",
       "...                                ...                ...  \n",
       "9995                         -0.900937          -1.677278  \n",
       "9996                          0.145326           0.144447  \n",
       "9997                          0.145326           0.977236  \n",
       "9998                         -1.598446           2.070271  \n",
       "9999                         -1.249691           0.456743  \n",
       "\n",
       "[10000 rows x 6 columns]"
      ],
      "text/html": [
       "<div>\n",
       "<style scoped>\n",
       "    .dataframe tbody tr th:only-of-type {\n",
       "        vertical-align: middle;\n",
       "    }\n",
       "\n",
       "    .dataframe tbody tr th {\n",
       "        vertical-align: top;\n",
       "    }\n",
       "\n",
       "    .dataframe thead th {\n",
       "        text-align: right;\n",
       "    }\n",
       "</style>\n",
       "<table border=\"1\" class=\"dataframe\">\n",
       "  <thead>\n",
       "    <tr style=\"text-align: right;\">\n",
       "      <th></th>\n",
       "      <th>Hours Studied</th>\n",
       "      <th>Previous Scores</th>\n",
       "      <th>Extracurricular Activities</th>\n",
       "      <th>Sleep Hours</th>\n",
       "      <th>Sample Question Papers Practiced</th>\n",
       "      <th>Performance Index</th>\n",
       "    </tr>\n",
       "  </thead>\n",
       "  <tbody>\n",
       "    <tr>\n",
       "      <th>0</th>\n",
       "      <td>0.775149</td>\n",
       "      <td>1.704090</td>\n",
       "      <td>1.010404</td>\n",
       "      <td>1.456132</td>\n",
       "      <td>-1.249691</td>\n",
       "      <td>1.862074</td>\n",
       "    </tr>\n",
       "    <tr>\n",
       "      <th>1</th>\n",
       "      <td>-0.383461</td>\n",
       "      <td>0.723876</td>\n",
       "      <td>-0.989604</td>\n",
       "      <td>-1.492220</td>\n",
       "      <td>-0.900937</td>\n",
       "      <td>0.508792</td>\n",
       "    </tr>\n",
       "    <tr>\n",
       "      <th>2</th>\n",
       "      <td>1.161352</td>\n",
       "      <td>-1.063573</td>\n",
       "      <td>1.010404</td>\n",
       "      <td>0.276791</td>\n",
       "      <td>-0.900937</td>\n",
       "      <td>-0.532194</td>\n",
       "    </tr>\n",
       "    <tr>\n",
       "      <th>3</th>\n",
       "      <td>0.002742</td>\n",
       "      <td>-1.005913</td>\n",
       "      <td>1.010404</td>\n",
       "      <td>-0.902549</td>\n",
       "      <td>-0.900937</td>\n",
       "      <td>-1.000637</td>\n",
       "    </tr>\n",
       "    <tr>\n",
       "      <th>4</th>\n",
       "      <td>0.775149</td>\n",
       "      <td>0.320259</td>\n",
       "      <td>-0.989604</td>\n",
       "      <td>0.866462</td>\n",
       "      <td>0.145326</td>\n",
       "      <td>0.560842</td>\n",
       "    </tr>\n",
       "    <tr>\n",
       "      <th>...</th>\n",
       "      <td>...</td>\n",
       "      <td>...</td>\n",
       "      <td>...</td>\n",
       "      <td>...</td>\n",
       "      <td>...</td>\n",
       "      <td>...</td>\n",
       "    </tr>\n",
       "    <tr>\n",
       "      <th>9995</th>\n",
       "      <td>-1.542072</td>\n",
       "      <td>-1.178892</td>\n",
       "      <td>1.010404</td>\n",
       "      <td>-1.492220</td>\n",
       "      <td>-0.900937</td>\n",
       "      <td>-1.677278</td>\n",
       "    </tr>\n",
       "    <tr>\n",
       "      <th>9996</th>\n",
       "      <td>0.775149</td>\n",
       "      <td>-0.313997</td>\n",
       "      <td>1.010404</td>\n",
       "      <td>0.866462</td>\n",
       "      <td>0.145326</td>\n",
       "      <td>0.144447</td>\n",
       "    </tr>\n",
       "    <tr>\n",
       "      <th>9997</th>\n",
       "      <td>0.388945</td>\n",
       "      <td>0.781536</td>\n",
       "      <td>1.010404</td>\n",
       "      <td>0.866462</td>\n",
       "      <td>0.145326</td>\n",
       "      <td>0.977236</td>\n",
       "    </tr>\n",
       "    <tr>\n",
       "      <th>9998</th>\n",
       "      <td>1.547556</td>\n",
       "      <td>1.588771</td>\n",
       "      <td>1.010404</td>\n",
       "      <td>0.276791</td>\n",
       "      <td>-1.598446</td>\n",
       "      <td>2.070271</td>\n",
       "    </tr>\n",
       "    <tr>\n",
       "      <th>9999</th>\n",
       "      <td>0.775149</td>\n",
       "      <td>0.262599</td>\n",
       "      <td>-0.989604</td>\n",
       "      <td>0.866462</td>\n",
       "      <td>-1.249691</td>\n",
       "      <td>0.456743</td>\n",
       "    </tr>\n",
       "  </tbody>\n",
       "</table>\n",
       "<p>10000 rows × 6 columns</p>\n",
       "</div>"
      ]
     },
     "execution_count": 7,
     "metadata": {},
     "output_type": "execute_result"
    }
   ],
   "execution_count": 7
  },
  {
   "metadata": {
    "ExecuteTime": {
     "end_time": "2024-09-30T00:19:44.498454Z",
     "start_time": "2024-09-30T00:19:44.469453Z"
    }
   },
   "cell_type": "code",
   "source": "norm_data.describe()",
   "id": "d673f279a545fac9",
   "outputs": [
    {
     "data": {
      "text/plain": [
       "       Hours Studied  Previous Scores  Extracurricular Activities  \\\n",
       "count   1.000000e+04     1.000000e+04                1.000000e+04   \n",
       "mean    9.805490e-17    -1.247003e-16                1.776357e-17   \n",
       "std     1.000000e+00     1.000000e+00                1.000000e+00   \n",
       "min    -1.542072e+00    -1.697829e+00               -9.896040e-01   \n",
       "25%    -7.696649e-01    -8.905936e-01               -9.896040e-01   \n",
       "50%     2.742045e-03    -2.569890e-02               -9.896040e-01   \n",
       "75%     7.751490e-01     8.968554e-01                1.010404e+00   \n",
       "max     1.547556e+00     1.704090e+00                1.010404e+00   \n",
       "\n",
       "        Sleep Hours  Sample Question Papers Practiced  Performance Index  \n",
       "count  1.000000e+04                      1.000000e+04       1.000000e+04  \n",
       "mean   1.612932e-16                     -1.357137e-16      -9.734435e-17  \n",
       "std    1.000000e+00                      1.000000e+00       1.000000e+00  \n",
       "min   -1.492220e+00                     -1.598446e+00      -2.353919e+00  \n",
       "25%   -9.025493e-01                     -9.009371e-01      -7.924400e-01  \n",
       "50%    2.767912e-01                      1.453259e-01      -1.170068e-02  \n",
       "75%    8.664615e-01                      8.428346e-01       8.210880e-01  \n",
       "max    1.456132e+00                      1.540343e+00       2.330517e+00  "
      ],
      "text/html": [
       "<div>\n",
       "<style scoped>\n",
       "    .dataframe tbody tr th:only-of-type {\n",
       "        vertical-align: middle;\n",
       "    }\n",
       "\n",
       "    .dataframe tbody tr th {\n",
       "        vertical-align: top;\n",
       "    }\n",
       "\n",
       "    .dataframe thead th {\n",
       "        text-align: right;\n",
       "    }\n",
       "</style>\n",
       "<table border=\"1\" class=\"dataframe\">\n",
       "  <thead>\n",
       "    <tr style=\"text-align: right;\">\n",
       "      <th></th>\n",
       "      <th>Hours Studied</th>\n",
       "      <th>Previous Scores</th>\n",
       "      <th>Extracurricular Activities</th>\n",
       "      <th>Sleep Hours</th>\n",
       "      <th>Sample Question Papers Practiced</th>\n",
       "      <th>Performance Index</th>\n",
       "    </tr>\n",
       "  </thead>\n",
       "  <tbody>\n",
       "    <tr>\n",
       "      <th>count</th>\n",
       "      <td>1.000000e+04</td>\n",
       "      <td>1.000000e+04</td>\n",
       "      <td>1.000000e+04</td>\n",
       "      <td>1.000000e+04</td>\n",
       "      <td>1.000000e+04</td>\n",
       "      <td>1.000000e+04</td>\n",
       "    </tr>\n",
       "    <tr>\n",
       "      <th>mean</th>\n",
       "      <td>9.805490e-17</td>\n",
       "      <td>-1.247003e-16</td>\n",
       "      <td>1.776357e-17</td>\n",
       "      <td>1.612932e-16</td>\n",
       "      <td>-1.357137e-16</td>\n",
       "      <td>-9.734435e-17</td>\n",
       "    </tr>\n",
       "    <tr>\n",
       "      <th>std</th>\n",
       "      <td>1.000000e+00</td>\n",
       "      <td>1.000000e+00</td>\n",
       "      <td>1.000000e+00</td>\n",
       "      <td>1.000000e+00</td>\n",
       "      <td>1.000000e+00</td>\n",
       "      <td>1.000000e+00</td>\n",
       "    </tr>\n",
       "    <tr>\n",
       "      <th>min</th>\n",
       "      <td>-1.542072e+00</td>\n",
       "      <td>-1.697829e+00</td>\n",
       "      <td>-9.896040e-01</td>\n",
       "      <td>-1.492220e+00</td>\n",
       "      <td>-1.598446e+00</td>\n",
       "      <td>-2.353919e+00</td>\n",
       "    </tr>\n",
       "    <tr>\n",
       "      <th>25%</th>\n",
       "      <td>-7.696649e-01</td>\n",
       "      <td>-8.905936e-01</td>\n",
       "      <td>-9.896040e-01</td>\n",
       "      <td>-9.025493e-01</td>\n",
       "      <td>-9.009371e-01</td>\n",
       "      <td>-7.924400e-01</td>\n",
       "    </tr>\n",
       "    <tr>\n",
       "      <th>50%</th>\n",
       "      <td>2.742045e-03</td>\n",
       "      <td>-2.569890e-02</td>\n",
       "      <td>-9.896040e-01</td>\n",
       "      <td>2.767912e-01</td>\n",
       "      <td>1.453259e-01</td>\n",
       "      <td>-1.170068e-02</td>\n",
       "    </tr>\n",
       "    <tr>\n",
       "      <th>75%</th>\n",
       "      <td>7.751490e-01</td>\n",
       "      <td>8.968554e-01</td>\n",
       "      <td>1.010404e+00</td>\n",
       "      <td>8.664615e-01</td>\n",
       "      <td>8.428346e-01</td>\n",
       "      <td>8.210880e-01</td>\n",
       "    </tr>\n",
       "    <tr>\n",
       "      <th>max</th>\n",
       "      <td>1.547556e+00</td>\n",
       "      <td>1.704090e+00</td>\n",
       "      <td>1.010404e+00</td>\n",
       "      <td>1.456132e+00</td>\n",
       "      <td>1.540343e+00</td>\n",
       "      <td>2.330517e+00</td>\n",
       "    </tr>\n",
       "  </tbody>\n",
       "</table>\n",
       "</div>"
      ]
     },
     "execution_count": 8,
     "metadata": {},
     "output_type": "execute_result"
    }
   ],
   "execution_count": 8
  },
  {
   "metadata": {},
   "cell_type": "markdown",
   "source": [
    "### 3. Разбиение данных на обучающий и тестовый набор данных\n",
    "\n",
    "Разделим данные в соотношении 80:20 (80% -- обучающий набор данных, 20% -- тестовый набор данных)."
   ],
   "id": "e123fab503c1b6ee"
  },
  {
   "metadata": {
    "ExecuteTime": {
     "end_time": "2024-09-30T00:19:44.530452Z",
     "start_time": "2024-09-30T00:19:44.500454Z"
    }
   },
   "cell_type": "code",
   "source": [
    "TRAIN_DATA_PERCENTAGE = 0.8\n",
    "assert 0 < TRAIN_DATA_PERCENTAGE < 1"
   ],
   "id": "b4ec7c9895ce7a4f",
   "outputs": [],
   "execution_count": 9
  },
  {
   "metadata": {
    "ExecuteTime": {
     "end_time": "2024-09-30T00:19:44.546452Z",
     "start_time": "2024-09-30T00:19:44.532454Z"
    }
   },
   "cell_type": "code",
   "source": [
    "norm_data = norm_data.sample(frac=1).reset_index(drop=True)  # Shuffle data\n",
    "\n",
    "train_size = int(len(norm_data) * TRAIN_DATA_PERCENTAGE)\n",
    "\n",
    "train_data, test_data = norm_data[:train_size], norm_data[train_size:]"
   ],
   "id": "4d3c45de2663db8b",
   "outputs": [],
   "execution_count": 10
  },
  {
   "metadata": {},
   "cell_type": "markdown",
   "source": [
    "### 4. Линейная регрессия с помощью МНК\n",
    "#### 4.0. Функции для построения линейной регрессии и оценки производительности\n",
    "\n",
    "Модель линейной регрессии предполагает, что зависимость между зависимой переменной $y$ и независимыми переменными $x_1$, $x_2$, ..., $x_k$ --- линейная. Иными словами,\n",
    "\n",
    "$$\n",
    "y = \\beta_1 + \\beta_2 x_1 + \\beta_3 x_2 + \\dots + \\beta_{k+1} x_k + \\varepsilon,\n",
    "$$\n",
    "\n",
    "где $\\beta_i$ -- параметры (коэффициенты) модели; $x_i$ -- регрессоры (факторы) модели; $\\varepsilon$ -- случайная ошибка модели.\n",
    "\n",
    "Для нахождения коэффициентов линейной регрессии зачастую используется метод наименьших квадратов (МНК). Его суть состоит в том, чтобы найти такой вектор коэффициентов $\\hat{\\beta_t}$, чтобы сумма квадратов отклонений (ошибок, или остатков регрессии) $e_t$ будет минимальной:\n",
    "$$\n",
    "\\hat{\\beta}=\\arg\\min\\limits_{\\beta} RSS(\\beta),\n",
    "$$\n",
    "где $RSS$ (сумма квадратов остатков) определяется как:\n",
    "$$\n",
    "RSS = e^T e = \\sum\\limits_{i=1}^{n} e_i^2 = \\sum\\limits_{i=1}^{n}(y_i - f(x_i, \\beta))^2,\n",
    "$$\n",
    "где $f(x_i, \\beta)$ -- функция (в данном случае -- линейная), аппроксимирующая $y_i$ и известная с точностью до некоторых неизвестных параметров $\\beta$.\n",
    "\n",
    "В матричной форме оценку этих коэффициентов можно выразить следующим образом:\n",
    "\n",
    "$$\n",
    "\\hat{\\beta} = (X^T X)^{-1}X^T Y,\n",
    "$$\n",
    "где $Y$ -- вектор наблюдаемых значений зависимой переменной, $X$ -- матрица $n\\times k$ ($n$ -- число наблюдений; $k$ -- число независимых переменных; в каждом столбце стоят значения одной переменной по всем наблюдениям; каждая строка --- одно наблюдение).\n",
    "\n",
    "Чтобы получить модель с константой $\\hat{\\beta_0}$, задающей смещение по $y$ (intercept), нужно приписать к матрице $X$ слева столбец из единиц. В таком случае линия (или гиперплоскость) регрессии будет проходить не через начало координат, а через \"центр тяжести\" данных."
   ],
   "id": "27bdf4ab9e6ae712"
  },
  {
   "metadata": {
    "ExecuteTime": {
     "end_time": "2024-09-30T00:19:44.625960Z",
     "start_time": "2024-09-30T00:19:44.548454Z"
    }
   },
   "cell_type": "code",
   "source": [
    "def linear_regression(x: np.ndarray, y: np.ndarray) -> np.ndarray:\n",
    "    return np.linalg.inv(x.T @ x) @ x.T @ y"
   ],
   "id": "199ebd21f1e05baf",
   "outputs": [],
   "execution_count": 11
  },
  {
   "metadata": {},
   "cell_type": "markdown",
   "source": [
    "В таком случае коэффициенты будут предсказываться следующим образом:\n",
    "$$\n",
    "\\hat{y} = \\hat{\\beta_0} + \\sum_{i=1}^{k}\\hat{\\beta}_{i+1}x_{i},\n",
    "$$\n",
    "или, в матричной форме:\n",
    "$$\n",
    "\\hat{y} = X\\hat{\\beta}.\n",
    "$$"
   ],
   "id": "764aee9d6e9498fc"
  },
  {
   "metadata": {
    "ExecuteTime": {
     "end_time": "2024-09-30T00:19:44.640960Z",
     "start_time": "2024-09-30T00:19:44.627963Z"
    }
   },
   "cell_type": "code",
   "source": [
    "def predict(x: np.ndarray, beta: np.ndarray) -> np.ndarray:\n",
    "    return x @ beta"
   ],
   "id": "da7b71e9744e8434",
   "outputs": [],
   "execution_count": 12
  },
  {
   "metadata": {},
   "cell_type": "markdown",
   "source": [
    "Важной характеристикой модели является коэффициент детерминации $R^2$, характеризующий, насколько дисперсия зависимой переменной \"объяснена\", т. е. доля дисперсии зависимой переменной, объясняемая независимыми переменными. Чем меньше дисперсия случайной ошибки, тем ближе коэффициент к 1.\n",
    "\n",
    "В случае линейной регрессии вычисляется по формуле:\n",
    "\n",
    "$$\n",
    "R^2 = 1 - \\cfrac{RSS}{TSS}.\n",
    "$$\n",
    "\n",
    "Здесь $RSS$ -- сумма квадратов остатков (Residual Sum of Squares):\n",
    "$$\n",
    "RSS = \\sum_{i=1}^n(Y_i-\\hat{Y}_i)^2 = (Y-X\\hat{\\beta})^T(Y-X\\hat{\\beta})\n",
    "$$\n",
    "\n",
    "Здесь $TSS$ -- общая сумма квадратов (Total Sum of Squares), вычисляемая по формуле:\n",
    "$$\n",
    "TSS = \\sum_{i=1}^n(Y_i-\\bar{Y})^2,\n",
    "$$\n",
    "\n",
    "где $\\bar{Y}$ -- выборочное среднее зависимой переменной."
   ],
   "id": "390a71f58d3f3de5"
  },
  {
   "metadata": {
    "ExecuteTime": {
     "end_time": "2024-09-30T00:19:44.655960Z",
     "start_time": "2024-09-30T00:19:44.641962Z"
    }
   },
   "cell_type": "code",
   "source": [
    "def calculate_r2(y_true: np.ndarray, y_pred: np.ndarray) -> float:\n",
    "    rss = np.sum(np.square(y_true - y_pred))\n",
    "    tss = np.sum(np.square(y_true - y_true.mean()))\n",
    "    r2 = 1 - rss / tss\n",
    "    return r2"
   ],
   "id": "7fe5e27012e8044",
   "outputs": [],
   "execution_count": 13
  },
  {
   "metadata": {},
   "cell_type": "markdown",
   "source": "Напишем функцию, которая строит линейную регрессию, а затем считает $R^2$ и на обучающем, и на тестовом наборе.",
   "id": "382946902d46538d"
  },
  {
   "metadata": {
    "ExecuteTime": {
     "end_time": "2024-09-30T00:19:44.671962Z",
     "start_time": "2024-09-30T00:19:44.658961Z"
    }
   },
   "cell_type": "code",
   "source": [
    "def calculate_coeffs_and_r2_score(train_data: pd.DataFrame,\n",
    "                       test_data: pd.DataFrame,\n",
    "                       dependent_variable: str,\n",
    "                       variables_to_exclude: list[str] = (),\n",
    "                       variables_to_keep: list[str] = ()) -> dict[str, object]:\n",
    "    assert not variables_to_keep or not variables_to_exclude, 'Cannot specify both variables to exclude and variables to keep'\n",
    "    \n",
    "    if variables_to_keep:\n",
    "        # If variables_to_keep is provided, only keep these features\n",
    "        x_train = train_data[list(variables_to_keep)]\n",
    "        x_test = test_data[list(variables_to_keep)]\n",
    "    else:\n",
    "        # Otherwise drop the excluded variables and the dependent variable\n",
    "        x_train = train_data.drop([dependent_variable] + list(variables_to_exclude), axis=1)\n",
    "        x_test = test_data.drop([dependent_variable] + list(variables_to_exclude), axis=1)\n",
    "    \n",
    "    # Add intercept (column of ones) to both train and test sets\n",
    "    x_train = np.column_stack((np.ones(shape=x_train.shape[0]), x_train.values))\n",
    "    x_test = np.column_stack((np.ones(shape=x_test.shape[0]), x_test.values))\n",
    "    y_train = train_data[dependent_variable]\n",
    "    y_test = test_data[dependent_variable]\n",
    "    \n",
    "    coeffs = linear_regression(x_train, y_train)\n",
    "    \n",
    "    y_pred_train = predict(x_train, coeffs)\n",
    "    r2_train = calculate_r2(y_train, y_pred_train)\n",
    "    \n",
    "    y_pred_test = predict(x_test, coeffs)\n",
    "    r2_test = calculate_r2(y_test, y_pred_test)\n",
    "    \n",
    "    return {\n",
    "        'coeffs': coeffs,\n",
    "        'r2_train': r2_train,\n",
    "        'r2_test': r2_test\n",
    "    }"
   ],
   "id": "1faa8e3b932db8ae",
   "outputs": [],
   "execution_count": 14
  },
  {
   "metadata": {},
   "cell_type": "markdown",
   "source": [
    "#### 4.1. Полный набор признаков\n",
    "Будем оценивать зависимость индекса успеваемости (`Performance Index`) от всех прочих признаков."
   ],
   "id": "c8f8082a45ad845a"
  },
  {
   "metadata": {
    "ExecuteTime": {
     "end_time": "2024-09-30T00:19:44.736070Z",
     "start_time": "2024-09-30T00:19:44.673961Z"
    }
   },
   "cell_type": "code",
   "source": "result1 = calculate_coeffs_and_r2_score(train_data, test_data, 'Performance Index')",
   "id": "a530d56fb75750f8",
   "outputs": [],
   "execution_count": 15
  },
  {
   "metadata": {},
   "cell_type": "markdown",
   "source": [
    "#### 4.2. Неполный набор признаков\n",
    "Исключим из модели признаки \"часы сна\" (`Sleep Hours`) и \"внеучебная деятельность\" (`Extracurricular Activities`), ведь кому нужен этот ваш сон и смена деятельности? В остальном выполняем те же самые действия, что и в предыдущих примерах."
   ],
   "id": "4b373be264c20474"
  },
  {
   "metadata": {
    "ExecuteTime": {
     "end_time": "2024-09-30T00:19:44.752071Z",
     "start_time": "2024-09-30T00:19:44.737073Z"
    }
   },
   "cell_type": "code",
   "source": [
    "result2 = calculate_coeffs_and_r2_score(\n",
    "    train_data, test_data, 'Performance Index',\n",
    "    variables_to_exclude=['Sleep Hours', 'Extracurricular Activities'],\n",
    ")"
   ],
   "id": "163e91ee6e2d7756",
   "outputs": [],
   "execution_count": 16
  },
  {
   "metadata": {},
   "cell_type": "markdown",
   "source": [
    "#### 4.3. Неполный набор признаков (С твистом)\n",
    "Впрочем, я поменял своё мнение: \"часы сна\" (Sleep Hours) и \"внеучебная деятельность\" (Extracurricular Activities) действительно очень важны ~~(В дальнейшем мы поймём, что это сарказм)~~. Теперь оставим только эти признаки."
   ],
   "id": "c8a78deb20d38bb3"
  },
  {
   "metadata": {
    "ExecuteTime": {
     "end_time": "2024-09-30T00:19:44.768070Z",
     "start_time": "2024-09-30T00:19:44.755074Z"
    }
   },
   "cell_type": "code",
   "source": [
    "result3 = calculate_coeffs_and_r2_score(\n",
    "    train_data, test_data, 'Performance Index',\n",
    "    variables_to_keep=['Sleep Hours', 'Extracurricular Activities'],\n",
    ")"
   ],
   "id": "df3055b0a3af8748",
   "outputs": [],
   "execution_count": 17
  },
  {
   "metadata": {},
   "cell_type": "markdown",
   "source": [
    "#### 4.4. Все наборы признаков\n",
    "Ха. Хаха. Хахаха.\n",
    "Вам меня не остановить."
   ],
   "id": "ee6a71315aef9ed5"
  },
  {
   "metadata": {
    "ExecuteTime": {
     "end_time": "2024-09-30T00:19:44.861163Z",
     "start_time": "2024-09-30T00:19:44.770073Z"
    }
   },
   "cell_type": "code",
   "source": [
    "from itertools import combinations\n",
    "from math import comb\n",
    "\n",
    "desc = norm_data.describe()\n",
    "desc_without_dependent = desc.drop('Performance Index', axis='columns')\n",
    "\n",
    "def r2_test_for_all_combinations():\n",
    "    n = desc_without_dependent.columns.size\n",
    "    combs_count = sum((comb(n, k) for k in range(1, n + 1)))\n",
    "    \n",
    "    assert combs_count <= 100, f'Too many possible combinations ({combs_count} > 100) for {n} variables'\n",
    "    \n",
    "    results: list[(float, list[str])] = []\n",
    "    \n",
    "    for i in range(1, desc_without_dependent.columns.size + 1):\n",
    "        for combination in combinations(desc_without_dependent.columns, i):\n",
    "            combination = list(combination)\n",
    "            \n",
    "            r2_test = calculate_coeffs_and_r2_score(\n",
    "                train_data,\n",
    "                test_data,\n",
    "                'Performance Index',\n",
    "                variables_to_keep=combination\n",
    "            )['r2_test']\n",
    "            results.append((r2_test, combination))\n",
    "            \n",
    "    \n",
    "    results.sort(key=lambda result: -result[0])\n",
    "    \n",
    "    for result in results:\n",
    "        print(f'{result[0]:.6f} : {result[1]}')\n",
    "\n",
    "r2_test_for_all_combinations()"
   ],
   "id": "4f49711679931167",
   "outputs": [
    {
     "name": "stdout",
     "output_type": "stream",
     "text": [
      "0.988630 : ['Hours Studied', 'Previous Scores', 'Extracurricular Activities', 'Sleep Hours', 'Sample Question Papers Practiced']\n",
      "0.988223 : ['Hours Studied', 'Previous Scores', 'Sleep Hours', 'Sample Question Papers Practiced']\n",
      "0.987784 : ['Hours Studied', 'Previous Scores', 'Extracurricular Activities', 'Sleep Hours']\n",
      "0.987364 : ['Hours Studied', 'Previous Scores', 'Sleep Hours']\n",
      "0.986853 : ['Hours Studied', 'Previous Scores', 'Extracurricular Activities', 'Sample Question Papers Practiced']\n",
      "0.986476 : ['Hours Studied', 'Previous Scores', 'Sample Question Papers Practiced']\n",
      "0.985967 : ['Hours Studied', 'Previous Scores', 'Extracurricular Activities']\n",
      "0.985577 : ['Hours Studied', 'Previous Scores']\n",
      "0.845871 : ['Previous Scores', 'Extracurricular Activities', 'Sleep Hours', 'Sample Question Papers Practiced']\n",
      "0.845435 : ['Previous Scores', 'Sleep Hours', 'Sample Question Papers Practiced']\n",
      "0.844121 : ['Previous Scores', 'Extracurricular Activities', 'Sample Question Papers Practiced']\n",
      "0.844042 : ['Previous Scores', 'Extracurricular Activities', 'Sleep Hours']\n",
      "0.843714 : ['Previous Scores', 'Sample Question Papers Practiced']\n",
      "0.843586 : ['Previous Scores', 'Sleep Hours']\n",
      "0.842244 : ['Previous Scores', 'Extracurricular Activities']\n",
      "0.841816 : ['Previous Scores']\n",
      "0.147506 : ['Hours Studied', 'Extracurricular Activities', 'Sleep Hours', 'Sample Question Papers Practiced']\n",
      "0.146578 : ['Hours Studied', 'Sleep Hours', 'Sample Question Papers Practiced']\n",
      "0.144683 : ['Hours Studied', 'Extracurricular Activities', 'Sleep Hours']\n",
      "0.144125 : ['Hours Studied', 'Extracurricular Activities', 'Sample Question Papers Practiced']\n",
      "0.143712 : ['Hours Studied', 'Sleep Hours']\n",
      "0.143261 : ['Hours Studied', 'Sample Question Papers Practiced']\n",
      "0.141253 : ['Hours Studied', 'Extracurricular Activities']\n",
      "0.140348 : ['Hours Studied']\n",
      "0.008061 : ['Extracurricular Activities', 'Sleep Hours', 'Sample Question Papers Practiced']\n",
      "0.007087 : ['Sleep Hours', 'Sample Question Papers Practiced']\n",
      "0.004693 : ['Extracurricular Activities', 'Sample Question Papers Practiced']\n",
      "0.003986 : ['Extracurricular Activities', 'Sleep Hours']\n",
      "0.003783 : ['Sample Question Papers Practiced']\n",
      "0.002958 : ['Sleep Hours']\n",
      "0.000561 : ['Extracurricular Activities']\n"
     ]
    }
   ],
   "execution_count": 18
  },
  {
   "metadata": {},
   "cell_type": "markdown",
   "source": [
    "#### 4.5. Синтетический признак\n",
    "Введём синтетический признак: `Speed Performance` (производительность по скорости), который будет рассчитываться как:\n",
    "$$\n",
    "\\text{Speed Performance} = \\left\\{\\begin{matrix}\n",
    "    \\cfrac{\\text{Sample Question Papers Practiced}}{\\text{Hours Studied}}, & \\text{Hours Studied} > 0, \\\\\n",
    "    \\cfrac{\\text{Sample Question Papers Practiced}}{\\varepsilon}, & \\text{else},\n",
    "\\end{matrix}\\right.\n",
    "$$\n",
    "где $\\varepsilon$ -- маленькое значение.\n",
    "\n",
    "Создаём копию датасета с синтетическим признаком:"
   ],
   "id": "9cb8f3ea470ca13e"
  },
  {
   "metadata": {
    "ExecuteTime": {
     "end_time": "2024-09-30T00:19:44.877163Z",
     "start_time": "2024-09-30T00:19:44.862163Z"
    }
   },
   "cell_type": "code",
   "source": "EPSILON = 1e-6",
   "id": "442c020a40462040",
   "outputs": [],
   "execution_count": 19
  },
  {
   "metadata": {
    "ExecuteTime": {
     "end_time": "2024-09-30T00:19:44.941163Z",
     "start_time": "2024-09-30T00:19:44.878163Z"
    }
   },
   "cell_type": "code",
   "source": [
    "augm_data = data.copy()\n",
    "augm_data['Speed Performance'] = augm_data['Sample Question Papers Practiced'] / np.where(\n",
    "    augm_data['Hours Studied'] > 0, augm_data['Hours Studied'], EPSILON\n",
    ")\n",
    "augm_data.describe()"
   ],
   "id": "41d1820b8575c56a",
   "outputs": [
    {
     "data": {
      "text/plain": [
       "       Hours Studied  Previous Scores  Extracurricular Activities  \\\n",
       "count   10000.000000     10000.000000                10000.000000   \n",
       "mean        4.992900        69.445700                    0.494800   \n",
       "std         2.589309        17.343152                    0.499998   \n",
       "min         1.000000        40.000000                    0.000000   \n",
       "25%         3.000000        54.000000                    0.000000   \n",
       "50%         5.000000        69.000000                    0.000000   \n",
       "75%         7.000000        85.000000                    1.000000   \n",
       "max         9.000000        99.000000                    1.000000   \n",
       "\n",
       "        Sleep Hours  Sample Question Papers Practiced  Performance Index  \\\n",
       "count  10000.000000                      10000.000000       10000.000000   \n",
       "mean       6.530600                          4.583300          55.224800   \n",
       "std        1.695863                          2.867348          19.212558   \n",
       "min        4.000000                          0.000000          10.000000   \n",
       "25%        5.000000                          2.000000          40.000000   \n",
       "50%        7.000000                          5.000000          55.000000   \n",
       "75%        8.000000                          7.000000          71.000000   \n",
       "max        9.000000                          9.000000         100.000000   \n",
       "\n",
       "       Speed Performance  \n",
       "count       10000.000000  \n",
       "mean            1.443633  \n",
       "std             1.720765  \n",
       "min             0.000000  \n",
       "25%             0.428571  \n",
       "50%             1.000000  \n",
       "75%             1.666667  \n",
       "max             9.000000  "
      ],
      "text/html": [
       "<div>\n",
       "<style scoped>\n",
       "    .dataframe tbody tr th:only-of-type {\n",
       "        vertical-align: middle;\n",
       "    }\n",
       "\n",
       "    .dataframe tbody tr th {\n",
       "        vertical-align: top;\n",
       "    }\n",
       "\n",
       "    .dataframe thead th {\n",
       "        text-align: right;\n",
       "    }\n",
       "</style>\n",
       "<table border=\"1\" class=\"dataframe\">\n",
       "  <thead>\n",
       "    <tr style=\"text-align: right;\">\n",
       "      <th></th>\n",
       "      <th>Hours Studied</th>\n",
       "      <th>Previous Scores</th>\n",
       "      <th>Extracurricular Activities</th>\n",
       "      <th>Sleep Hours</th>\n",
       "      <th>Sample Question Papers Practiced</th>\n",
       "      <th>Performance Index</th>\n",
       "      <th>Speed Performance</th>\n",
       "    </tr>\n",
       "  </thead>\n",
       "  <tbody>\n",
       "    <tr>\n",
       "      <th>count</th>\n",
       "      <td>10000.000000</td>\n",
       "      <td>10000.000000</td>\n",
       "      <td>10000.000000</td>\n",
       "      <td>10000.000000</td>\n",
       "      <td>10000.000000</td>\n",
       "      <td>10000.000000</td>\n",
       "      <td>10000.000000</td>\n",
       "    </tr>\n",
       "    <tr>\n",
       "      <th>mean</th>\n",
       "      <td>4.992900</td>\n",
       "      <td>69.445700</td>\n",
       "      <td>0.494800</td>\n",
       "      <td>6.530600</td>\n",
       "      <td>4.583300</td>\n",
       "      <td>55.224800</td>\n",
       "      <td>1.443633</td>\n",
       "    </tr>\n",
       "    <tr>\n",
       "      <th>std</th>\n",
       "      <td>2.589309</td>\n",
       "      <td>17.343152</td>\n",
       "      <td>0.499998</td>\n",
       "      <td>1.695863</td>\n",
       "      <td>2.867348</td>\n",
       "      <td>19.212558</td>\n",
       "      <td>1.720765</td>\n",
       "    </tr>\n",
       "    <tr>\n",
       "      <th>min</th>\n",
       "      <td>1.000000</td>\n",
       "      <td>40.000000</td>\n",
       "      <td>0.000000</td>\n",
       "      <td>4.000000</td>\n",
       "      <td>0.000000</td>\n",
       "      <td>10.000000</td>\n",
       "      <td>0.000000</td>\n",
       "    </tr>\n",
       "    <tr>\n",
       "      <th>25%</th>\n",
       "      <td>3.000000</td>\n",
       "      <td>54.000000</td>\n",
       "      <td>0.000000</td>\n",
       "      <td>5.000000</td>\n",
       "      <td>2.000000</td>\n",
       "      <td>40.000000</td>\n",
       "      <td>0.428571</td>\n",
       "    </tr>\n",
       "    <tr>\n",
       "      <th>50%</th>\n",
       "      <td>5.000000</td>\n",
       "      <td>69.000000</td>\n",
       "      <td>0.000000</td>\n",
       "      <td>7.000000</td>\n",
       "      <td>5.000000</td>\n",
       "      <td>55.000000</td>\n",
       "      <td>1.000000</td>\n",
       "    </tr>\n",
       "    <tr>\n",
       "      <th>75%</th>\n",
       "      <td>7.000000</td>\n",
       "      <td>85.000000</td>\n",
       "      <td>1.000000</td>\n",
       "      <td>8.000000</td>\n",
       "      <td>7.000000</td>\n",
       "      <td>71.000000</td>\n",
       "      <td>1.666667</td>\n",
       "    </tr>\n",
       "    <tr>\n",
       "      <th>max</th>\n",
       "      <td>9.000000</td>\n",
       "      <td>99.000000</td>\n",
       "      <td>1.000000</td>\n",
       "      <td>9.000000</td>\n",
       "      <td>9.000000</td>\n",
       "      <td>100.000000</td>\n",
       "      <td>9.000000</td>\n",
       "    </tr>\n",
       "  </tbody>\n",
       "</table>\n",
       "</div>"
      ]
     },
     "execution_count": 20,
     "metadata": {},
     "output_type": "execute_result"
    }
   ],
   "execution_count": 20
  },
  {
   "metadata": {},
   "cell_type": "markdown",
   "source": "Нормируем этот датасет:",
   "id": "787892e1c78c2ca9"
  },
  {
   "metadata": {
    "ExecuteTime": {
     "end_time": "2024-09-30T00:19:44.987164Z",
     "start_time": "2024-09-30T00:19:44.946163Z"
    }
   },
   "cell_type": "code",
   "source": [
    "augm_norm_data = (augm_data - augm_data.mean()) / augm_data.std()\n",
    "augm_norm_data"
   ],
   "id": "943f0ad70a0172d9",
   "outputs": [
    {
     "data": {
      "text/plain": [
       "      Hours Studied  Previous Scores  Extracurricular Activities  Sleep Hours  \\\n",
       "0          0.775149         1.704090                    1.010404     1.456132   \n",
       "1         -0.383461         0.723876                   -0.989604    -1.492220   \n",
       "2          1.161352        -1.063573                    1.010404     0.276791   \n",
       "3          0.002742        -1.005913                    1.010404    -0.902549   \n",
       "4          0.775149         0.320259                   -0.989604     0.866462   \n",
       "...             ...              ...                         ...          ...   \n",
       "9995      -1.542072        -1.178892                    1.010404    -1.492220   \n",
       "9996       0.775149        -0.313997                    1.010404     0.866462   \n",
       "9997       0.388945         0.781536                    1.010404     0.866462   \n",
       "9998       1.547556         1.588771                    1.010404     0.276791   \n",
       "9999       0.775149         0.262599                   -0.989604     0.866462   \n",
       "\n",
       "      Sample Question Papers Practiced  Performance Index  Speed Performance  \n",
       "0                            -1.249691           1.862074          -0.755929  \n",
       "1                            -0.900937           0.508792          -0.548380  \n",
       "2                            -0.900937          -0.532194          -0.693664  \n",
       "3                            -0.900937          -1.000637          -0.606494  \n",
       "4                             0.145326           0.560842          -0.423851  \n",
       "...                                ...                ...                ...  \n",
       "9995                         -0.900937          -1.677278           0.323325  \n",
       "9996                          0.145326           0.144447          -0.423851  \n",
       "9997                          0.145326           0.977236          -0.354668  \n",
       "9998                         -1.598446           2.070271          -0.838949  \n",
       "9999                         -1.249691           0.456743          -0.755929  \n",
       "\n",
       "[10000 rows x 7 columns]"
      ],
      "text/html": [
       "<div>\n",
       "<style scoped>\n",
       "    .dataframe tbody tr th:only-of-type {\n",
       "        vertical-align: middle;\n",
       "    }\n",
       "\n",
       "    .dataframe tbody tr th {\n",
       "        vertical-align: top;\n",
       "    }\n",
       "\n",
       "    .dataframe thead th {\n",
       "        text-align: right;\n",
       "    }\n",
       "</style>\n",
       "<table border=\"1\" class=\"dataframe\">\n",
       "  <thead>\n",
       "    <tr style=\"text-align: right;\">\n",
       "      <th></th>\n",
       "      <th>Hours Studied</th>\n",
       "      <th>Previous Scores</th>\n",
       "      <th>Extracurricular Activities</th>\n",
       "      <th>Sleep Hours</th>\n",
       "      <th>Sample Question Papers Practiced</th>\n",
       "      <th>Performance Index</th>\n",
       "      <th>Speed Performance</th>\n",
       "    </tr>\n",
       "  </thead>\n",
       "  <tbody>\n",
       "    <tr>\n",
       "      <th>0</th>\n",
       "      <td>0.775149</td>\n",
       "      <td>1.704090</td>\n",
       "      <td>1.010404</td>\n",
       "      <td>1.456132</td>\n",
       "      <td>-1.249691</td>\n",
       "      <td>1.862074</td>\n",
       "      <td>-0.755929</td>\n",
       "    </tr>\n",
       "    <tr>\n",
       "      <th>1</th>\n",
       "      <td>-0.383461</td>\n",
       "      <td>0.723876</td>\n",
       "      <td>-0.989604</td>\n",
       "      <td>-1.492220</td>\n",
       "      <td>-0.900937</td>\n",
       "      <td>0.508792</td>\n",
       "      <td>-0.548380</td>\n",
       "    </tr>\n",
       "    <tr>\n",
       "      <th>2</th>\n",
       "      <td>1.161352</td>\n",
       "      <td>-1.063573</td>\n",
       "      <td>1.010404</td>\n",
       "      <td>0.276791</td>\n",
       "      <td>-0.900937</td>\n",
       "      <td>-0.532194</td>\n",
       "      <td>-0.693664</td>\n",
       "    </tr>\n",
       "    <tr>\n",
       "      <th>3</th>\n",
       "      <td>0.002742</td>\n",
       "      <td>-1.005913</td>\n",
       "      <td>1.010404</td>\n",
       "      <td>-0.902549</td>\n",
       "      <td>-0.900937</td>\n",
       "      <td>-1.000637</td>\n",
       "      <td>-0.606494</td>\n",
       "    </tr>\n",
       "    <tr>\n",
       "      <th>4</th>\n",
       "      <td>0.775149</td>\n",
       "      <td>0.320259</td>\n",
       "      <td>-0.989604</td>\n",
       "      <td>0.866462</td>\n",
       "      <td>0.145326</td>\n",
       "      <td>0.560842</td>\n",
       "      <td>-0.423851</td>\n",
       "    </tr>\n",
       "    <tr>\n",
       "      <th>...</th>\n",
       "      <td>...</td>\n",
       "      <td>...</td>\n",
       "      <td>...</td>\n",
       "      <td>...</td>\n",
       "      <td>...</td>\n",
       "      <td>...</td>\n",
       "      <td>...</td>\n",
       "    </tr>\n",
       "    <tr>\n",
       "      <th>9995</th>\n",
       "      <td>-1.542072</td>\n",
       "      <td>-1.178892</td>\n",
       "      <td>1.010404</td>\n",
       "      <td>-1.492220</td>\n",
       "      <td>-0.900937</td>\n",
       "      <td>-1.677278</td>\n",
       "      <td>0.323325</td>\n",
       "    </tr>\n",
       "    <tr>\n",
       "      <th>9996</th>\n",
       "      <td>0.775149</td>\n",
       "      <td>-0.313997</td>\n",
       "      <td>1.010404</td>\n",
       "      <td>0.866462</td>\n",
       "      <td>0.145326</td>\n",
       "      <td>0.144447</td>\n",
       "      <td>-0.423851</td>\n",
       "    </tr>\n",
       "    <tr>\n",
       "      <th>9997</th>\n",
       "      <td>0.388945</td>\n",
       "      <td>0.781536</td>\n",
       "      <td>1.010404</td>\n",
       "      <td>0.866462</td>\n",
       "      <td>0.145326</td>\n",
       "      <td>0.977236</td>\n",
       "      <td>-0.354668</td>\n",
       "    </tr>\n",
       "    <tr>\n",
       "      <th>9998</th>\n",
       "      <td>1.547556</td>\n",
       "      <td>1.588771</td>\n",
       "      <td>1.010404</td>\n",
       "      <td>0.276791</td>\n",
       "      <td>-1.598446</td>\n",
       "      <td>2.070271</td>\n",
       "      <td>-0.838949</td>\n",
       "    </tr>\n",
       "    <tr>\n",
       "      <th>9999</th>\n",
       "      <td>0.775149</td>\n",
       "      <td>0.262599</td>\n",
       "      <td>-0.989604</td>\n",
       "      <td>0.866462</td>\n",
       "      <td>-1.249691</td>\n",
       "      <td>0.456743</td>\n",
       "      <td>-0.755929</td>\n",
       "    </tr>\n",
       "  </tbody>\n",
       "</table>\n",
       "<p>10000 rows × 7 columns</p>\n",
       "</div>"
      ]
     },
     "execution_count": 21,
     "metadata": {},
     "output_type": "execute_result"
    }
   ],
   "execution_count": 21
  },
  {
   "metadata": {},
   "cell_type": "markdown",
   "source": "Разделяем его:",
   "id": "60d12b3304a5eff1"
  },
  {
   "metadata": {
    "ExecuteTime": {
     "end_time": "2024-09-30T00:19:45.049965Z",
     "start_time": "2024-09-30T00:19:44.991165Z"
    }
   },
   "cell_type": "code",
   "source": [
    "augm_train_data = augm_norm_data[:train_size]\n",
    "augm_test_data = augm_norm_data[train_size:]"
   ],
   "id": "7876a0aa31ecaf1d",
   "outputs": [],
   "execution_count": 22
  },
  {
   "metadata": {},
   "cell_type": "markdown",
   "source": "Строим линейную регрессию и вычисляем $R^2$:",
   "id": "9b87af45e5e6d2ad"
  },
  {
   "metadata": {
    "ExecuteTime": {
     "end_time": "2024-09-30T00:19:45.097417Z",
     "start_time": "2024-09-30T00:19:45.051731Z"
    }
   },
   "cell_type": "code",
   "source": "result4 = calculate_coeffs_and_r2_score(augm_train_data, augm_test_data, 'Performance Index')",
   "id": "afc7e39ef68e3f06",
   "outputs": [],
   "execution_count": 23
  },
  {
   "metadata": {},
   "cell_type": "markdown",
   "source": "Оцениваем, в каком случае $R^2$ получился выше всего:",
   "id": "68f23e22a5356971"
  },
  {
   "metadata": {
    "ExecuteTime": {
     "end_time": "2024-09-30T00:19:45.113418Z",
     "start_time": "2024-09-30T00:19:45.099419Z"
    }
   },
   "cell_type": "code",
   "source": [
    "results = [\n",
    "    (result1['r2_test'], 'All variables'),\n",
    "    (result2['r2_test'], 'All variables, excluding \"Sleep Hours\" and \"Extracurricular Activities'),\n",
    "    (result3['r2_test'], 'Only \"Sleep Hours\" and \"Extracurricular Activities\"'),\n",
    "    (result4['r2_test'], 'All variables, plus \"Speed Performance\"')\n",
    "]\n",
    "\n",
    "results.sort(key=lambda result: -result[0])\n",
    "for result in results:\n",
    "    print(f'{result[0]:.6f} : {result[1]}')"
   ],
   "id": "d801b2340e4afe22",
   "outputs": [
    {
     "name": "stdout",
     "output_type": "stream",
     "text": [
      "0.988630 : All variables\n",
      "0.988344 : All variables, plus \"Speed Performance\"\n",
      "0.986476 : All variables, excluding \"Sleep Hours\" and \"Extracurricular Activities\n",
      "0.003986 : Only \"Sleep Hours\" and \"Extracurricular Activities\"\n"
     ]
    }
   ],
   "execution_count": 24
  },
  {
   "metadata": {},
   "cell_type": "markdown",
   "source": "Добавление синтетического признака немного снизило предсказательную способность модели ($R^2$), что может означать, что этот признак не добавил значимой информации, или даже создал некоторую избыточность в модели.",
   "id": "c4c4622574860142"
  }
 ],
 "metadata": {
  "kernelspec": {
   "display_name": "Python 3",
   "language": "python",
   "name": "python3"
  },
  "language_info": {
   "codemirror_mode": {
    "name": "ipython",
    "version": 2
   },
   "file_extension": ".py",
   "mimetype": "text/x-python",
   "name": "python",
   "nbconvert_exporter": "python",
   "pygments_lexer": "ipython2",
   "version": "2.7.6"
  }
 },
 "nbformat": 4,
 "nbformat_minor": 5
}
