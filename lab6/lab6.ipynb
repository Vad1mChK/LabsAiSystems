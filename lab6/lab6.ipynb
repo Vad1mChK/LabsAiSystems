{
 "cells": [
  {
   "metadata": {},
   "cell_type": "markdown",
   "source": "# Лабораторная работа № 5 по дисциплине \"Системы искусственного интеллекта\"",
   "id": "303144df2ac3b894"
  },
  {
   "metadata": {},
   "cell_type": "markdown",
   "source": [
    "# Задание лабораторной работы\n",
    "0. Выбор датасета:\n",
    "    - Датасет о пассажирах Титаника: [Titanic Dataset](https://www.kaggle.com/c/titanic)\n",
    "    - ~~Датасет о диабете: [Diabetes Dataset](https://www.kaggle.com/uciml/pima-indians-diabetes-database)~~\n",
    "1. Загрузите выбранный датасет и выполните предварительную обработку данных. \n",
    "2. Получите и визуализируйте (графически) статистику по датасету (включая количество, среднее значение, стандартное отклонение, минимум, максимум и различные квантили).\n",
    "3. Разделите данные на обучающий и тестовый наборы в соотношении, которое вы считаете подходящим.\n",
    "4. Реализуйте логистическую регрессию \"с нуля\" без использования сторонних библиотек, кроме NumPy и Pandas. Ваша реализация логистической регрессии должна включать в себя:\n",
    "    - Функцию для вычисления гипотезы (sigmoid function).\n",
    "    - Функцию для вычисления функции потерь (log loss).\n",
    "    - Метод обучения, который включает в себя градиентный спуск.\n",
    "    - Возможность варьировать гиперпараметры, такие как коэффициент обучения (learning rate) и количество итераций.\n",
    "5. Исследование гиперпараметров:\n",
    "    - Проведите исследование влияния гиперпараметров на производительность модели. Варьируйте следующие гиперпараметры:\n",
    "        - Коэффициент обучения (learning rate).\n",
    "        - Количество итераций обучения.\n",
    "        - Метод оптимизации (например, градиентный спуск или оптимизация Ньютона).\n",
    "6. Оценка модели:\n",
    "    - Для каждой комбинации гиперпараметров оцените производительность модели на тестовом наборе данных, используя метрики, такие как accuracy, precision, recall и F1-Score."
   ],
   "id": "32a7cacfc06ba1bb"
  },
  {
   "metadata": {},
   "cell_type": "markdown",
   "source": [
    "## Выполнение лабораторной работы\n",
    "### 0. Установка и импорт библиотек, загрузка датасета\n",
    "\n",
    "Сначала установим библиотеки, если они уже не установлены."
   ],
   "id": "723db307f5d80600"
  },
  {
   "metadata": {
    "ExecuteTime": {
     "end_time": "2024-11-22T01:18:58.461805Z",
     "start_time": "2024-11-22T01:18:56.555037Z"
    }
   },
   "cell_type": "code",
   "source": "!pip install numpy pandas matplotlib",
   "id": "1d1cdddbfb23f26b",
   "outputs": [
    {
     "name": "stdout",
     "output_type": "stream",
     "text": [
      "Requirement already satisfied: numpy in c:\\users\\vadim\\pycharmprojects\\labsaisystems\\.venv\\lib\\site-packages (2.1.1)\n",
      "Requirement already satisfied: pandas in c:\\users\\vadim\\pycharmprojects\\labsaisystems\\.venv\\lib\\site-packages (2.2.3)\n",
      "Requirement already satisfied: matplotlib in c:\\users\\vadim\\pycharmprojects\\labsaisystems\\.venv\\lib\\site-packages (3.9.2)\n",
      "Requirement already satisfied: python-dateutil>=2.8.2 in c:\\users\\vadim\\pycharmprojects\\labsaisystems\\.venv\\lib\\site-packages (from pandas) (2.9.0.post0)\n",
      "Requirement already satisfied: pytz>=2020.1 in c:\\users\\vadim\\pycharmprojects\\labsaisystems\\.venv\\lib\\site-packages (from pandas) (2024.2)\n",
      "Requirement already satisfied: tzdata>=2022.7 in c:\\users\\vadim\\pycharmprojects\\labsaisystems\\.venv\\lib\\site-packages (from pandas) (2024.2)\n",
      "Requirement already satisfied: contourpy>=1.0.1 in c:\\users\\vadim\\pycharmprojects\\labsaisystems\\.venv\\lib\\site-packages (from matplotlib) (1.3.0)\n",
      "Requirement already satisfied: cycler>=0.10 in c:\\users\\vadim\\pycharmprojects\\labsaisystems\\.venv\\lib\\site-packages (from matplotlib) (0.12.1)\n",
      "Requirement already satisfied: fonttools>=4.22.0 in c:\\users\\vadim\\pycharmprojects\\labsaisystems\\.venv\\lib\\site-packages (from matplotlib) (4.54.1)\n",
      "Requirement already satisfied: kiwisolver>=1.3.1 in c:\\users\\vadim\\pycharmprojects\\labsaisystems\\.venv\\lib\\site-packages (from matplotlib) (1.4.7)\n",
      "Requirement already satisfied: packaging>=20.0 in c:\\users\\vadim\\pycharmprojects\\labsaisystems\\.venv\\lib\\site-packages (from matplotlib) (24.1)\n",
      "Requirement already satisfied: pillow>=8 in c:\\users\\vadim\\pycharmprojects\\labsaisystems\\.venv\\lib\\site-packages (from matplotlib) (10.4.0)\n",
      "Requirement already satisfied: pyparsing>=2.3.1 in c:\\users\\vadim\\pycharmprojects\\labsaisystems\\.venv\\lib\\site-packages (from matplotlib) (3.1.4)\n",
      "Requirement already satisfied: six>=1.5 in c:\\users\\vadim\\pycharmprojects\\labsaisystems\\.venv\\lib\\site-packages (from python-dateutil>=2.8.2->pandas) (1.16.0)\n"
     ]
    },
    {
     "name": "stderr",
     "output_type": "stream",
     "text": [
      "\n",
      "[notice] A new release of pip is available: 23.2.1 -> 24.3.1\n",
      "[notice] To update, run: python.exe -m pip install --upgrade pip\n"
     ]
    }
   ],
   "execution_count": 1
  },
  {
   "metadata": {},
   "cell_type": "markdown",
   "source": "Импортируем необходимые библиотеки.",
   "id": "a6946a6893342a7a"
  },
  {
   "metadata": {
    "ExecuteTime": {
     "end_time": "2024-11-22T01:18:59.281277Z",
     "start_time": "2024-11-22T01:18:58.462809Z"
    }
   },
   "cell_type": "code",
   "source": [
    "import numpy as np\n",
    "import pandas as pd\n",
    "import matplotlib.pyplot as plt"
   ],
   "id": "c8a95d3b89665f1f",
   "outputs": [],
   "execution_count": 2
  },
  {
   "metadata": {},
   "cell_type": "markdown",
   "source": "Импортируем датасет:",
   "id": "293df4a453af83f1"
  },
  {
   "metadata": {
    "ExecuteTime": {
     "end_time": "2024-11-22T01:18:59.330954Z",
     "start_time": "2024-11-22T01:18:59.282278Z"
    }
   },
   "cell_type": "code",
   "source": [
    "df_train = pd.read_csv('../datasets/titanic/train.csv')\n",
    "print(df_train.describe(include='all'))\n",
    "df_train.head()"
   ],
   "id": "c85aa1a0cdd9daf3",
   "outputs": [
    {
     "name": "stdout",
     "output_type": "stream",
     "text": [
      "        PassengerId    Survived      Pclass                 Name   Sex  \\\n",
      "count    891.000000  891.000000  891.000000                  891   891   \n",
      "unique          NaN         NaN         NaN                  891     2   \n",
      "top             NaN         NaN         NaN  Dooley, Mr. Patrick  male   \n",
      "freq            NaN         NaN         NaN                    1   577   \n",
      "mean     446.000000    0.383838    2.308642                  NaN   NaN   \n",
      "std      257.353842    0.486592    0.836071                  NaN   NaN   \n",
      "min        1.000000    0.000000    1.000000                  NaN   NaN   \n",
      "25%      223.500000    0.000000    2.000000                  NaN   NaN   \n",
      "50%      446.000000    0.000000    3.000000                  NaN   NaN   \n",
      "75%      668.500000    1.000000    3.000000                  NaN   NaN   \n",
      "max      891.000000    1.000000    3.000000                  NaN   NaN   \n",
      "\n",
      "               Age       SibSp       Parch  Ticket        Fare Cabin Embarked  \n",
      "count   714.000000  891.000000  891.000000     891  891.000000   204      889  \n",
      "unique         NaN         NaN         NaN     681         NaN   147        3  \n",
      "top            NaN         NaN         NaN  347082         NaN    G6        S  \n",
      "freq           NaN         NaN         NaN       7         NaN     4      644  \n",
      "mean     29.699118    0.523008    0.381594     NaN   32.204208   NaN      NaN  \n",
      "std      14.526497    1.102743    0.806057     NaN   49.693429   NaN      NaN  \n",
      "min       0.420000    0.000000    0.000000     NaN    0.000000   NaN      NaN  \n",
      "25%      20.125000    0.000000    0.000000     NaN    7.910400   NaN      NaN  \n",
      "50%      28.000000    0.000000    0.000000     NaN   14.454200   NaN      NaN  \n",
      "75%      38.000000    1.000000    0.000000     NaN   31.000000   NaN      NaN  \n",
      "max      80.000000    8.000000    6.000000     NaN  512.329200   NaN      NaN  \n"
     ]
    },
    {
     "data": {
      "text/plain": [
       "   PassengerId  Survived  Pclass  \\\n",
       "0            1         0       3   \n",
       "1            2         1       1   \n",
       "2            3         1       3   \n",
       "3            4         1       1   \n",
       "4            5         0       3   \n",
       "\n",
       "                                                Name     Sex   Age  SibSp  \\\n",
       "0                            Braund, Mr. Owen Harris    male  22.0      1   \n",
       "1  Cumings, Mrs. John Bradley (Florence Briggs Th...  female  38.0      1   \n",
       "2                             Heikkinen, Miss. Laina  female  26.0      0   \n",
       "3       Futrelle, Mrs. Jacques Heath (Lily May Peel)  female  35.0      1   \n",
       "4                           Allen, Mr. William Henry    male  35.0      0   \n",
       "\n",
       "   Parch            Ticket     Fare Cabin Embarked  \n",
       "0      0         A/5 21171   7.2500   NaN        S  \n",
       "1      0          PC 17599  71.2833   C85        C  \n",
       "2      0  STON/O2. 3101282   7.9250   NaN        S  \n",
       "3      0            113803  53.1000  C123        S  \n",
       "4      0            373450   8.0500   NaN        S  "
      ],
      "text/html": [
       "<div>\n",
       "<style scoped>\n",
       "    .dataframe tbody tr th:only-of-type {\n",
       "        vertical-align: middle;\n",
       "    }\n",
       "\n",
       "    .dataframe tbody tr th {\n",
       "        vertical-align: top;\n",
       "    }\n",
       "\n",
       "    .dataframe thead th {\n",
       "        text-align: right;\n",
       "    }\n",
       "</style>\n",
       "<table border=\"1\" class=\"dataframe\">\n",
       "  <thead>\n",
       "    <tr style=\"text-align: right;\">\n",
       "      <th></th>\n",
       "      <th>PassengerId</th>\n",
       "      <th>Survived</th>\n",
       "      <th>Pclass</th>\n",
       "      <th>Name</th>\n",
       "      <th>Sex</th>\n",
       "      <th>Age</th>\n",
       "      <th>SibSp</th>\n",
       "      <th>Parch</th>\n",
       "      <th>Ticket</th>\n",
       "      <th>Fare</th>\n",
       "      <th>Cabin</th>\n",
       "      <th>Embarked</th>\n",
       "    </tr>\n",
       "  </thead>\n",
       "  <tbody>\n",
       "    <tr>\n",
       "      <th>0</th>\n",
       "      <td>1</td>\n",
       "      <td>0</td>\n",
       "      <td>3</td>\n",
       "      <td>Braund, Mr. Owen Harris</td>\n",
       "      <td>male</td>\n",
       "      <td>22.0</td>\n",
       "      <td>1</td>\n",
       "      <td>0</td>\n",
       "      <td>A/5 21171</td>\n",
       "      <td>7.2500</td>\n",
       "      <td>NaN</td>\n",
       "      <td>S</td>\n",
       "    </tr>\n",
       "    <tr>\n",
       "      <th>1</th>\n",
       "      <td>2</td>\n",
       "      <td>1</td>\n",
       "      <td>1</td>\n",
       "      <td>Cumings, Mrs. John Bradley (Florence Briggs Th...</td>\n",
       "      <td>female</td>\n",
       "      <td>38.0</td>\n",
       "      <td>1</td>\n",
       "      <td>0</td>\n",
       "      <td>PC 17599</td>\n",
       "      <td>71.2833</td>\n",
       "      <td>C85</td>\n",
       "      <td>C</td>\n",
       "    </tr>\n",
       "    <tr>\n",
       "      <th>2</th>\n",
       "      <td>3</td>\n",
       "      <td>1</td>\n",
       "      <td>3</td>\n",
       "      <td>Heikkinen, Miss. Laina</td>\n",
       "      <td>female</td>\n",
       "      <td>26.0</td>\n",
       "      <td>0</td>\n",
       "      <td>0</td>\n",
       "      <td>STON/O2. 3101282</td>\n",
       "      <td>7.9250</td>\n",
       "      <td>NaN</td>\n",
       "      <td>S</td>\n",
       "    </tr>\n",
       "    <tr>\n",
       "      <th>3</th>\n",
       "      <td>4</td>\n",
       "      <td>1</td>\n",
       "      <td>1</td>\n",
       "      <td>Futrelle, Mrs. Jacques Heath (Lily May Peel)</td>\n",
       "      <td>female</td>\n",
       "      <td>35.0</td>\n",
       "      <td>1</td>\n",
       "      <td>0</td>\n",
       "      <td>113803</td>\n",
       "      <td>53.1000</td>\n",
       "      <td>C123</td>\n",
       "      <td>S</td>\n",
       "    </tr>\n",
       "    <tr>\n",
       "      <th>4</th>\n",
       "      <td>5</td>\n",
       "      <td>0</td>\n",
       "      <td>3</td>\n",
       "      <td>Allen, Mr. William Henry</td>\n",
       "      <td>male</td>\n",
       "      <td>35.0</td>\n",
       "      <td>0</td>\n",
       "      <td>0</td>\n",
       "      <td>373450</td>\n",
       "      <td>8.0500</td>\n",
       "      <td>NaN</td>\n",
       "      <td>S</td>\n",
       "    </tr>\n",
       "  </tbody>\n",
       "</table>\n",
       "</div>"
      ]
     },
     "execution_count": 3,
     "metadata": {},
     "output_type": "execute_result"
    }
   ],
   "execution_count": 3
  },
  {
   "metadata": {
    "ExecuteTime": {
     "end_time": "2024-11-22T01:18:59.361974Z",
     "start_time": "2024-11-22T01:18:59.332959Z"
    }
   },
   "cell_type": "code",
   "source": [
    "df_test = pd.read_csv('../datasets/titanic/test.csv')\n",
    "print(df_test.describe(include='all'))\n",
    "df_test.head()"
   ],
   "id": "54832c37a9774e0d",
   "outputs": [
    {
     "name": "stdout",
     "output_type": "stream",
     "text": [
      "        PassengerId      Pclass                      Name   Sex         Age  \\\n",
      "count    418.000000  418.000000                       418   418  332.000000   \n",
      "unique          NaN         NaN                       418     2         NaN   \n",
      "top             NaN         NaN  Peter, Master. Michael J  male         NaN   \n",
      "freq            NaN         NaN                         1   266         NaN   \n",
      "mean    1100.500000    2.265550                       NaN   NaN   30.272590   \n",
      "std      120.810458    0.841838                       NaN   NaN   14.181209   \n",
      "min      892.000000    1.000000                       NaN   NaN    0.170000   \n",
      "25%      996.250000    1.000000                       NaN   NaN   21.000000   \n",
      "50%     1100.500000    3.000000                       NaN   NaN   27.000000   \n",
      "75%     1204.750000    3.000000                       NaN   NaN   39.000000   \n",
      "max     1309.000000    3.000000                       NaN   NaN   76.000000   \n",
      "\n",
      "             SibSp       Parch    Ticket        Fare            Cabin Embarked  \n",
      "count   418.000000  418.000000       418  417.000000               91      418  \n",
      "unique         NaN         NaN       363         NaN               76        3  \n",
      "top            NaN         NaN  PC 17608         NaN  B57 B59 B63 B66        S  \n",
      "freq           NaN         NaN         5         NaN                3      270  \n",
      "mean      0.447368    0.392344       NaN   35.627188              NaN      NaN  \n",
      "std       0.896760    0.981429       NaN   55.907576              NaN      NaN  \n",
      "min       0.000000    0.000000       NaN    0.000000              NaN      NaN  \n",
      "25%       0.000000    0.000000       NaN    7.895800              NaN      NaN  \n",
      "50%       0.000000    0.000000       NaN   14.454200              NaN      NaN  \n",
      "75%       1.000000    0.000000       NaN   31.500000              NaN      NaN  \n",
      "max       8.000000    9.000000       NaN  512.329200              NaN      NaN  \n"
     ]
    },
    {
     "data": {
      "text/plain": [
       "   PassengerId  Pclass                                          Name     Sex  \\\n",
       "0          892       3                              Kelly, Mr. James    male   \n",
       "1          893       3              Wilkes, Mrs. James (Ellen Needs)  female   \n",
       "2          894       2                     Myles, Mr. Thomas Francis    male   \n",
       "3          895       3                              Wirz, Mr. Albert    male   \n",
       "4          896       3  Hirvonen, Mrs. Alexander (Helga E Lindqvist)  female   \n",
       "\n",
       "    Age  SibSp  Parch   Ticket     Fare Cabin Embarked  \n",
       "0  34.5      0      0   330911   7.8292   NaN        Q  \n",
       "1  47.0      1      0   363272   7.0000   NaN        S  \n",
       "2  62.0      0      0   240276   9.6875   NaN        Q  \n",
       "3  27.0      0      0   315154   8.6625   NaN        S  \n",
       "4  22.0      1      1  3101298  12.2875   NaN        S  "
      ],
      "text/html": [
       "<div>\n",
       "<style scoped>\n",
       "    .dataframe tbody tr th:only-of-type {\n",
       "        vertical-align: middle;\n",
       "    }\n",
       "\n",
       "    .dataframe tbody tr th {\n",
       "        vertical-align: top;\n",
       "    }\n",
       "\n",
       "    .dataframe thead th {\n",
       "        text-align: right;\n",
       "    }\n",
       "</style>\n",
       "<table border=\"1\" class=\"dataframe\">\n",
       "  <thead>\n",
       "    <tr style=\"text-align: right;\">\n",
       "      <th></th>\n",
       "      <th>PassengerId</th>\n",
       "      <th>Pclass</th>\n",
       "      <th>Name</th>\n",
       "      <th>Sex</th>\n",
       "      <th>Age</th>\n",
       "      <th>SibSp</th>\n",
       "      <th>Parch</th>\n",
       "      <th>Ticket</th>\n",
       "      <th>Fare</th>\n",
       "      <th>Cabin</th>\n",
       "      <th>Embarked</th>\n",
       "    </tr>\n",
       "  </thead>\n",
       "  <tbody>\n",
       "    <tr>\n",
       "      <th>0</th>\n",
       "      <td>892</td>\n",
       "      <td>3</td>\n",
       "      <td>Kelly, Mr. James</td>\n",
       "      <td>male</td>\n",
       "      <td>34.5</td>\n",
       "      <td>0</td>\n",
       "      <td>0</td>\n",
       "      <td>330911</td>\n",
       "      <td>7.8292</td>\n",
       "      <td>NaN</td>\n",
       "      <td>Q</td>\n",
       "    </tr>\n",
       "    <tr>\n",
       "      <th>1</th>\n",
       "      <td>893</td>\n",
       "      <td>3</td>\n",
       "      <td>Wilkes, Mrs. James (Ellen Needs)</td>\n",
       "      <td>female</td>\n",
       "      <td>47.0</td>\n",
       "      <td>1</td>\n",
       "      <td>0</td>\n",
       "      <td>363272</td>\n",
       "      <td>7.0000</td>\n",
       "      <td>NaN</td>\n",
       "      <td>S</td>\n",
       "    </tr>\n",
       "    <tr>\n",
       "      <th>2</th>\n",
       "      <td>894</td>\n",
       "      <td>2</td>\n",
       "      <td>Myles, Mr. Thomas Francis</td>\n",
       "      <td>male</td>\n",
       "      <td>62.0</td>\n",
       "      <td>0</td>\n",
       "      <td>0</td>\n",
       "      <td>240276</td>\n",
       "      <td>9.6875</td>\n",
       "      <td>NaN</td>\n",
       "      <td>Q</td>\n",
       "    </tr>\n",
       "    <tr>\n",
       "      <th>3</th>\n",
       "      <td>895</td>\n",
       "      <td>3</td>\n",
       "      <td>Wirz, Mr. Albert</td>\n",
       "      <td>male</td>\n",
       "      <td>27.0</td>\n",
       "      <td>0</td>\n",
       "      <td>0</td>\n",
       "      <td>315154</td>\n",
       "      <td>8.6625</td>\n",
       "      <td>NaN</td>\n",
       "      <td>S</td>\n",
       "    </tr>\n",
       "    <tr>\n",
       "      <th>4</th>\n",
       "      <td>896</td>\n",
       "      <td>3</td>\n",
       "      <td>Hirvonen, Mrs. Alexander (Helga E Lindqvist)</td>\n",
       "      <td>female</td>\n",
       "      <td>22.0</td>\n",
       "      <td>1</td>\n",
       "      <td>1</td>\n",
       "      <td>3101298</td>\n",
       "      <td>12.2875</td>\n",
       "      <td>NaN</td>\n",
       "      <td>S</td>\n",
       "    </tr>\n",
       "  </tbody>\n",
       "</table>\n",
       "</div>"
      ]
     },
     "execution_count": 4,
     "metadata": {},
     "output_type": "execute_result"
    }
   ],
   "execution_count": 4
  },
  {
   "metadata": {},
   "cell_type": "markdown",
   "source": [
    "### 1. Предварительная обработка данных\n",
    "\n",
    "> Загрузите выбранный датасет и выполните предварительную обработку данных. "
   ],
   "id": "7c7f28448247baeb"
  },
  {
   "metadata": {},
   "cell_type": "markdown",
   "source": [
    "#### ~~1.1. Удаление отсутствующих значений~~\n",
    "\n",
    "Определим процент строк в тренировочном и тестовом датасете, содержащих отсутствующие значения:"
   ],
   "id": "b7b76e71a1e1f015"
  },
  {
   "metadata": {
    "ExecuteTime": {
     "end_time": "2024-11-22T01:18:59.381340Z",
     "start_time": "2024-11-22T01:18:59.363975Z"
    }
   },
   "cell_type": "code",
   "source": [
    "def na_rate_dataframe(df: pd.DataFrame) -> float:\n",
    "    return df.isna().any(axis='columns').sum() / df.shape[0]\n",
    "\n",
    "def na_rate_series(s: pd.Series) -> float:\n",
    "    return s.isna().sum() / s.size\n",
    "\n",
    "print(f'Missing values in train dataset: {(na_rate_dataframe(df_train) * 100):.2f}%')\n",
    "print(f'Missing values in test dataset: {(na_rate_dataframe(df_test) * 100):.2f}%')"
   ],
   "id": "d2096ab48cf4c389",
   "outputs": [
    {
     "name": "stdout",
     "output_type": "stream",
     "text": [
      "Missing values in train dataset: 79.46%\n",
      "Missing values in test dataset: 79.19%\n"
     ]
    }
   ],
   "execution_count": 5
  },
  {
   "metadata": {},
   "cell_type": "markdown",
   "source": "Большое количество отсутствующих значений свидетельствует о том, что удаление всех строк с отсутствующими значениями нецелесообразно.",
   "id": "366660dd597a1dcc"
  },
  {
   "metadata": {},
   "cell_type": "markdown",
   "source": [
    "### 1.2. Переобозначение\n",
    "Для удобства переобозначим наборы столбцов:"
   ],
   "id": "5ee3051bf2d787dc"
  },
  {
   "metadata": {
    "ExecuteTime": {
     "end_time": "2024-11-22T01:18:59.396340Z",
     "start_time": "2024-11-22T01:18:59.383338Z"
    }
   },
   "cell_type": "code",
   "source": [
    "x_train = df_train.drop(columns=['Survived'])\n",
    "y_train = df_train['Survived']\n",
    "x_test = df_test # df_test has no column 'Survived'"
   ],
   "id": "36ee1fca589502f3",
   "outputs": [],
   "execution_count": 6
  },
  {
   "metadata": {},
   "cell_type": "markdown",
   "source": [
    "### 1.3. Импутация\n",
    "\n",
    "Применим импутацию (восстановление) данных для столбцов, в которых не более 50% пропусков: \n",
    "- Если пропущено более 50% значений столбца в тренировочном датасете, помечаем столбец на удаление.\n",
    "- Для числовых признаков используем выборочное среднее.\n",
    "- Для категориальных признаков используем моду.\n",
    "\n",
    "Выделим категориальные и числовые признаки:"
   ],
   "id": "c608051b9fdd7711"
  },
  {
   "metadata": {
    "ExecuteTime": {
     "end_time": "2024-11-22T01:18:59.411337Z",
     "start_time": "2024-11-22T01:18:59.397360Z"
    }
   },
   "cell_type": "code",
   "source": [
    "numeric_columns = x_train.select_dtypes(include='number').columns \n",
    "categorical_columns = x_train.select_dtypes(exclude='number').columns\n",
    "print(f'Numeric columns: {numeric_columns}')\n",
    "print(f'Categorical columns: {categorical_columns}')"
   ],
   "id": "54be158ab6cb4b7b",
   "outputs": [
    {
     "name": "stdout",
     "output_type": "stream",
     "text": [
      "Numeric columns: Index(['PassengerId', 'Pclass', 'Age', 'SibSp', 'Parch', 'Fare'], dtype='object')\n",
      "Categorical columns: Index(['Name', 'Sex', 'Ticket', 'Cabin', 'Embarked'], dtype='object')\n"
     ]
    }
   ],
   "execution_count": 7
  },
  {
   "metadata": {},
   "cell_type": "markdown",
   "source": "Помечаем на удаление столбцы с большим числом пропусков:",
   "id": "e5019167345a0398"
  },
  {
   "metadata": {
    "ExecuteTime": {
     "end_time": "2024-11-22T01:18:59.431455Z",
     "start_time": "2024-11-22T01:18:59.412359Z"
    }
   },
   "cell_type": "code",
   "source": [
    "_THRESHOLD = 0.5\n",
    "columns_to_delete = [\n",
    "    col \n",
    "    for col in x_train.columns\n",
    "    if x_train[col].isna().mean() > _THRESHOLD\n",
    "]\n",
    "columns_to_delete"
   ],
   "id": "318df274a1dead3d",
   "outputs": [
    {
     "data": {
      "text/plain": [
       "['Cabin']"
      ]
     },
     "execution_count": 8,
     "metadata": {},
     "output_type": "execute_result"
    }
   ],
   "execution_count": 8
  },
  {
   "metadata": {},
   "cell_type": "markdown",
   "source": "Также проверим категориальные признаки с большим числом уникальных значений ($k > 10$):",
   "id": "6d54840a5c02b2ec"
  },
  {
   "metadata": {
    "ExecuteTime": {
     "end_time": "2024-11-22T01:18:59.446476Z",
     "start_time": "2024-11-22T01:18:59.432477Z"
    }
   },
   "cell_type": "code",
   "source": [
    "_MAX_CARDINALITY = 10\n",
    "high_cardinality_columns = [\n",
    "    col\n",
    "    for col in categorical_columns\n",
    "    if df_train[col].nunique() > _MAX_CARDINALITY\n",
    "]\n",
    "columns_to_delete += high_cardinality_columns\n",
    "columns_to_delete = list(set(columns_to_delete))\n",
    "columns_to_delete"
   ],
   "id": "23437648557d1c79",
   "outputs": [
    {
     "data": {
      "text/plain": [
       "['Name', 'Ticket', 'Cabin']"
      ]
     },
     "execution_count": 9,
     "metadata": {},
     "output_type": "execute_result"
    }
   ],
   "execution_count": 9
  },
  {
   "metadata": {},
   "cell_type": "markdown",
   "source": "Также удалим столбец `PassengerId`, т. к. он, скорее всего, не привнесёт полезную информацию (это просто порядковый номер пассажира в датасете).",
   "id": "8bb2ecda5bda8a99"
  },
  {
   "metadata": {
    "ExecuteTime": {
     "end_time": "2024-11-22T01:18:59.462480Z",
     "start_time": "2024-11-22T01:18:59.447476Z"
    }
   },
   "cell_type": "code",
   "source": [
    "columns_to_delete += ['PassengerId']\n",
    "columns_to_delete = list(set(columns_to_delete))\n",
    "columns_to_delete"
   ],
   "id": "914754669415bf1a",
   "outputs": [
    {
     "data": {
      "text/plain": [
       "['PassengerId', 'Name', 'Ticket', 'Cabin']"
      ]
     },
     "execution_count": 10,
     "metadata": {},
     "output_type": "execute_result"
    }
   ],
   "execution_count": 10
  },
  {
   "metadata": {
    "ExecuteTime": {
     "end_time": "2024-11-22T01:18:59.480994Z",
     "start_time": "2024-11-22T01:18:59.463482Z"
    }
   },
   "cell_type": "code",
   "source": [
    "x_train = x_train.drop(columns=columns_to_delete)\n",
    "x_test = x_test.drop(columns=columns_to_delete)\n",
    "\n",
    "numeric_columns = [col for col in numeric_columns if col not in columns_to_delete]\n",
    "categorical_columns = [col for col in categorical_columns if col not in columns_to_delete]\n",
    "\n",
    "print(f'Train dataset columns: {x_train.columns}')\n",
    "print(f'Test dataset columns: {x_test.columns}')"
   ],
   "id": "36c2b0a4b4ea4ada",
   "outputs": [
    {
     "name": "stdout",
     "output_type": "stream",
     "text": [
      "Train dataset columns: Index(['Pclass', 'Sex', 'Age', 'SibSp', 'Parch', 'Fare', 'Embarked'], dtype='object')\n",
      "Test dataset columns: Index(['Pclass', 'Sex', 'Age', 'SibSp', 'Parch', 'Fare', 'Embarked'], dtype='object')\n"
     ]
    }
   ],
   "execution_count": 11
  },
  {
   "metadata": {},
   "cell_type": "markdown",
   "source": "Заполнение числовых признаков:",
   "id": "cfde342665b45d95"
  },
  {
   "metadata": {
    "ExecuteTime": {
     "end_time": "2024-11-22T01:18:59.496017Z",
     "start_time": "2024-11-22T01:18:59.482018Z"
    }
   },
   "cell_type": "code",
   "source": [
    "for col in numeric_columns:\n",
    "    assert x_train[col].dtype == x_test[col].dtype, f'type {x_train[col].dtype} != type {x_test[col].dtype}'\n",
    "\n",
    "    mean = x_train[col].mean()\n",
    "    \n",
    "    print(f'{col}: type {x_train[col].dtype}, empty {x_train[col].isna().sum()}, mean {mean:.6f}')\n",
    "    x_train[col] = x_train[col].fillna(mean)\n",
    "    x_test[col] = x_test[col].fillna(mean)\n",
    "    \n",
    "    # Are there no unfilled values left?\n",
    "    assert x_train[col].isna().sum() == 0, \\\n",
    "        f'{col}: {x_train[col].isna().sum()} missing values left in train'\n",
    "    assert x_test[col].isna().sum() == 0, \\\n",
    "        f'{col}: {x_test[col].isna().sum()} missing values left in test'"
   ],
   "id": "a578336cff7ac569",
   "outputs": [
    {
     "name": "stdout",
     "output_type": "stream",
     "text": [
      "Pclass: type int64, empty 0, mean 2.308642\n",
      "Age: type float64, empty 177, mean 29.699118\n",
      "SibSp: type int64, empty 0, mean 0.523008\n",
      "Parch: type int64, empty 0, mean 0.381594\n",
      "Fare: type float64, empty 0, mean 32.204208\n"
     ]
    }
   ],
   "execution_count": 12
  },
  {
   "metadata": {
    "ExecuteTime": {
     "end_time": "2024-11-22T01:18:59.511012Z",
     "start_time": "2024-11-22T01:18:59.496994Z"
    }
   },
   "cell_type": "code",
   "source": [
    "for col in categorical_columns:\n",
    "    assert x_train[col].dtype == x_test[col].dtype, f'type {x_train[col].dtype} != type {x_test[col].dtype}'\n",
    "    \n",
    "    mode = x_train[col].mode()[0]\n",
    "    \n",
    "    print(f'{col}: type {x_train[col].dtype}, empty {x_train[col].isna().sum()}, unique {x_train[col].nunique()}, mode {mode}')\n",
    "    x_train[col] = x_train[col].fillna(mode)\n",
    "    x_test[col] = x_test[col].fillna(mode)\n",
    "\n",
    "    assert x_train[col].isna().sum() == 0, f'{col}: {x_train[col].isna().sum()} missing values left in train'\n",
    "    assert x_test[col].isna().sum() == 0, f'{col}: {x_test[col].isna().sum()} missing values left in test'"
   ],
   "id": "e650d95cf6c4fb71",
   "outputs": [
    {
     "name": "stdout",
     "output_type": "stream",
     "text": [
      "Sex: type object, empty 0, unique 2, mode male\n",
      "Embarked: type object, empty 2, unique 3, mode S\n"
     ]
    }
   ],
   "execution_count": 13
  },
  {
   "metadata": {},
   "cell_type": "markdown",
   "source": [
    "#### 1.4. Кодирование категориальных признаков\n",
    "\n",
    "Нужно закодировать 2 категориальных признака: `Sex` и `Embarked`. Кодируем их числами:"
   ],
   "id": "47ba72d61180e7b4"
  },
  {
   "metadata": {
    "ExecuteTime": {
     "end_time": "2024-11-22T01:18:59.530954Z",
     "start_time": "2024-11-22T01:18:59.512992Z"
    }
   },
   "cell_type": "code",
   "source": [
    "for dataset in (x_train, x_test):\n",
    "    dataset['Sex'] = dataset['Sex'].map({'male': 0, 'female': 1}).fillna(-1)\n",
    "    dataset['Embarked'] = dataset['Embarked'].map({'C': 0, 'Q': 1, 'S': 2}).fillna(-1)\n",
    "\n",
    "x_train['Sex'].unique(), x_test['Sex'].unique(), x_train['Embarked'].unique(), x_test['Embarked'].unique()"
   ],
   "id": "69a9f60ce2cc78f7",
   "outputs": [
    {
     "data": {
      "text/plain": [
       "(array([0, 1]), array([0, 1]), array([2, 0, 1]), array([1, 2, 0]))"
      ]
     },
     "execution_count": 14,
     "metadata": {},
     "output_type": "execute_result"
    }
   ],
   "execution_count": 14
  },
  {
   "metadata": {},
   "cell_type": "markdown",
   "source": [
    "#### 1.5. Нормализация числовых признаков\n",
    "\n",
    "Для числовых признаков выполним нормализацию по закону:\n",
    "$$\n",
    "x' = \\cfrac{x-\\bar x}{\\sigma}.\n",
    "$$\n",
    "\n",
    "Значения выборочного среднего и стандартного отклонения берём из **тренировочного** датасета."
   ],
   "id": "78198bd9d577387f"
  },
  {
   "metadata": {
    "ExecuteTime": {
     "end_time": "2024-11-22T01:18:59.545990Z",
     "start_time": "2024-11-22T01:18:59.531981Z"
    }
   },
   "cell_type": "code",
   "source": [
    "x_train_norm = x_train.copy()\n",
    "x_test_norm = x_test.copy()"
   ],
   "id": "abb8c159ef4d1b6",
   "outputs": [],
   "execution_count": 15
  },
  {
   "metadata": {
    "ExecuteTime": {
     "end_time": "2024-11-22T01:18:59.560976Z",
     "start_time": "2024-11-22T01:18:59.546957Z"
    }
   },
   "cell_type": "code",
   "source": [
    "x_train_numeric = x_train[numeric_columns]\n",
    "_x_mean = x_train_numeric.mean(axis=0)\n",
    "_x_std = x_train_numeric.std(axis=0)\n",
    "_x_std[_x_std == 0] = 1"
   ],
   "id": "9a626e5a388b95ca",
   "outputs": [],
   "execution_count": 16
  },
  {
   "metadata": {
    "ExecuteTime": {
     "end_time": "2024-11-22T01:19:32.639261Z",
     "start_time": "2024-11-22T01:19:32.624345Z"
    }
   },
   "cell_type": "code",
   "source": [
    "x_train_norm[numeric_columns] = (x_train[numeric_columns] - _x_mean) / _x_std\n",
    "x_test_norm[numeric_columns] = (x_test[numeric_columns] - _x_mean) / _x_std\n",
    "x_train_norm.head()"
   ],
   "id": "8cc6aeaf0887691b",
   "outputs": [
    {
     "data": {
      "text/plain": [
       "     Pclass  Sex       Age     SibSp     Parch      Fare  Embarked\n",
       "0  0.826913    0 -0.592148  0.432550 -0.473408 -0.502163         2\n",
       "1 -1.565228    1  0.638430  0.432550 -0.473408  0.786404         0\n",
       "2  0.826913    1 -0.284503 -0.474279 -0.473408 -0.488580         2\n",
       "3 -1.565228    1  0.407697  0.432550 -0.473408  0.420494         2\n",
       "4  0.826913    0  0.407697 -0.474279 -0.473408 -0.486064         2"
      ],
      "text/html": [
       "<div>\n",
       "<style scoped>\n",
       "    .dataframe tbody tr th:only-of-type {\n",
       "        vertical-align: middle;\n",
       "    }\n",
       "\n",
       "    .dataframe tbody tr th {\n",
       "        vertical-align: top;\n",
       "    }\n",
       "\n",
       "    .dataframe thead th {\n",
       "        text-align: right;\n",
       "    }\n",
       "</style>\n",
       "<table border=\"1\" class=\"dataframe\">\n",
       "  <thead>\n",
       "    <tr style=\"text-align: right;\">\n",
       "      <th></th>\n",
       "      <th>Pclass</th>\n",
       "      <th>Sex</th>\n",
       "      <th>Age</th>\n",
       "      <th>SibSp</th>\n",
       "      <th>Parch</th>\n",
       "      <th>Fare</th>\n",
       "      <th>Embarked</th>\n",
       "    </tr>\n",
       "  </thead>\n",
       "  <tbody>\n",
       "    <tr>\n",
       "      <th>0</th>\n",
       "      <td>0.826913</td>\n",
       "      <td>0</td>\n",
       "      <td>-0.592148</td>\n",
       "      <td>0.432550</td>\n",
       "      <td>-0.473408</td>\n",
       "      <td>-0.502163</td>\n",
       "      <td>2</td>\n",
       "    </tr>\n",
       "    <tr>\n",
       "      <th>1</th>\n",
       "      <td>-1.565228</td>\n",
       "      <td>1</td>\n",
       "      <td>0.638430</td>\n",
       "      <td>0.432550</td>\n",
       "      <td>-0.473408</td>\n",
       "      <td>0.786404</td>\n",
       "      <td>0</td>\n",
       "    </tr>\n",
       "    <tr>\n",
       "      <th>2</th>\n",
       "      <td>0.826913</td>\n",
       "      <td>1</td>\n",
       "      <td>-0.284503</td>\n",
       "      <td>-0.474279</td>\n",
       "      <td>-0.473408</td>\n",
       "      <td>-0.488580</td>\n",
       "      <td>2</td>\n",
       "    </tr>\n",
       "    <tr>\n",
       "      <th>3</th>\n",
       "      <td>-1.565228</td>\n",
       "      <td>1</td>\n",
       "      <td>0.407697</td>\n",
       "      <td>0.432550</td>\n",
       "      <td>-0.473408</td>\n",
       "      <td>0.420494</td>\n",
       "      <td>2</td>\n",
       "    </tr>\n",
       "    <tr>\n",
       "      <th>4</th>\n",
       "      <td>0.826913</td>\n",
       "      <td>0</td>\n",
       "      <td>0.407697</td>\n",
       "      <td>-0.474279</td>\n",
       "      <td>-0.473408</td>\n",
       "      <td>-0.486064</td>\n",
       "      <td>2</td>\n",
       "    </tr>\n",
       "  </tbody>\n",
       "</table>\n",
       "</div>"
      ]
     },
     "execution_count": 19,
     "metadata": {},
     "output_type": "execute_result"
    }
   ],
   "execution_count": 19
  },
  {
   "metadata": {},
   "cell_type": "code",
   "outputs": [],
   "execution_count": null,
   "source": "",
   "id": "1fe3d442d14ccba9"
  }
 ],
 "metadata": {
  "kernelspec": {
   "display_name": "Python 3",
   "language": "python",
   "name": "python3"
  },
  "language_info": {
   "codemirror_mode": {
    "name": "ipython",
    "version": 2
   },
   "file_extension": ".py",
   "mimetype": "text/x-python",
   "name": "python",
   "nbconvert_exporter": "python",
   "pygments_lexer": "ipython2",
   "version": "2.7.6"
  }
 },
 "nbformat": 4,
 "nbformat_minor": 5
}
